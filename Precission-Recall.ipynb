{
 "cells": [
  {
   "cell_type": "code",
   "execution_count": 9,
   "id": "b051643f",
   "metadata": {},
   "outputs": [],
   "source": [
    "import do_functions as do\n",
    "import numpy as np\n",
    "import matplotlib.pyplot as plt\n",
    "from matplotlib.font_manager import FontProperties\n",
    "import pandas as pd\n",
    "font = FontProperties()\n",
    "font.set_family('serif')\n",
    "font.set_name('Times New Roman')"
   ]
  },
  {
   "cell_type": "code",
   "execution_count": 13,
   "id": "92250872",
   "metadata": {},
   "outputs": [],
   "source": [
    "df = do.read_and_merge('paz_metadata_actualitzat.pkl',\n",
    "                       'paz_profiles_actualitzat.pkl')\n",
    "df = do.clean_dataframe(df)"
   ]
  },
  {
   "cell_type": "code",
   "execution_count": null,
   "id": "389ea5b2",
   "metadata": {},
   "outputs": [],
   "source": [
    "#PrecisionRecall curve for dphi average between 1 and 10km\n",
    "# and truth threshold of 9.58mm (=0.3 on normalized data)\n",
    "do.plotPrecisionRecall(df,1.0,10.0,0.90)\n"
   ]
  },
  {
   "cell_type": "code",
   "execution_count": null,
   "id": "01f79916",
   "metadata": {},
   "outputs": [],
   "source": [
    "p1,r1,p11,r11,truth,label1 = do.getPrecisionRecall(df,0.1,8.4,0.90)\n",
    "no_skill = len(truth[truth==1]) / len(truth)\n",
    "\n",
    "p2,r2,p22,r22,truth2,label2 = do.getPrecisionRecall(df,2.0,20.0,0.90)\n",
    "p3,r3,p33,r33,truth3,label3 = do.getPrecisionRecall(df,8.0,9.0,0.90)\n",
    "\n",
    "plt.figure(figsize=(11,11), tight_layout=True)\n",
    "\n",
    "plt.scatter(p1,r1,label=label1,s=0.5,c='black')\n",
    "plt.scatter(p11,r11,s=40,c='r')\n",
    "\n",
    "plt.scatter(p2,r2,label=label2,s=0.5,c='gray')\n",
    "\n",
    "plt.scatter(p3,r3,label=label3,s=0.5,c='gray')\n",
    "\n",
    "plt.plot([0, 1], [no_skill, no_skill], linestyle='--', c='black',label='no skill')\n",
    "\n",
    "\n",
    "lgnd = plt.legend(scatterpoints=1,\n",
    "                  prop= FontProperties(family='Times New Roman',style='normal', size=20))\n",
    "\n",
    "lgnd.legendHandles[0]._sizes = [30]\n",
    "lgnd.legendHandles[1]._sizes = [40]\n",
    "lgnd.legendHandles[2]._sizes = [40]\n",
    "lgnd.legendHandles[3]._sizes = [40]\n",
    "\n",
    "plt.xlabel('Recall', \n",
    "           fontproperties=font,\n",
    "           fontsize=25)\n",
    "plt.ylabel('Precission',\n",
    "           fontproperties=font,\n",
    "           fontsize=25)\n",
    "\n",
    "plt.xticks(ticks=[0,1], \n",
    "           labels=['0','1.0'],\n",
    "           fontproperties=font, \n",
    "           fontsize=20)\n",
    "plt.yticks(ticks=[0,1], \n",
    "           labels=['0','1.0'],\n",
    "           fontproperties=font, \n",
    "           fontsize=20)"
   ]
  },
  {
   "cell_type": "code",
   "execution_count": null,
   "id": "1c374e78",
   "metadata": {},
   "outputs": [],
   "source": [
    "df.iloc[36000][109]"
   ]
  },
  {
   "cell_type": "code",
   "execution_count": null,
   "id": "74bc6d96",
   "metadata": {},
   "outputs": [],
   "source": [
    "initial = [0.1,0.5,1.0,2.0]\n",
    "final = [0.5,1.0,5.0,10.0]\n",
    "\n",
    "for hi in initial:\n",
    "    for hf in final:\n",
    "        do.plotPrecisionRecall(df,hi,hf,0.01)\n"
   ]
  },
  {
   "cell_type": "code",
   "execution_count": null,
   "id": "78e81656",
   "metadata": {},
   "outputs": [],
   "source": [
    "for hi in initial:\n",
    "    for hf in final:\n",
    "        do.plotPrecisionRecall(df,hi,hf,0.1)"
   ]
  },
  {
   "cell_type": "code",
   "execution_count": null,
   "id": "328bdbef",
   "metadata": {},
   "outputs": [],
   "source": [
    "for hi in initial:\n",
    "    for hf in final:\n",
    "        do.plotPrecisionRecall(df,hi,hf,0.3)"
   ]
  },
  {
   "cell_type": "code",
   "execution_count": null,
   "id": "0a8b7fa8",
   "metadata": {},
   "outputs": [],
   "source": [
    "for hi in initial:\n",
    "    for hf in final:\n",
    "        do.plotPrecisionRecall(df,hi,hf,0.5)"
   ]
  },
  {
   "cell_type": "code",
   "execution_count": null,
   "id": "1b112636",
   "metadata": {},
   "outputs": [],
   "source": [
    "for hi in initial:\n",
    "    for hf in final:\n",
    "        do.plotPrecisionRecall(df,hi,hf,0.7)"
   ]
  },
  {
   "cell_type": "code",
   "execution_count": null,
   "id": "98e6025d",
   "metadata": {},
   "outputs": [],
   "source": []
  }
 ],
 "metadata": {
  "kernelspec": {
   "display_name": "Python 3 (ipykernel)",
   "language": "python",
   "name": "python3"
  },
  "language_info": {
   "codemirror_mode": {
    "name": "ipython",
    "version": 3
   },
   "file_extension": ".py",
   "mimetype": "text/x-python",
   "name": "python",
   "nbconvert_exporter": "python",
   "pygments_lexer": "ipython3",
   "version": "3.9.7"
  }
 },
 "nbformat": 4,
 "nbformat_minor": 5
}
