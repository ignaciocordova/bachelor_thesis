{
 "cells": [
  {
   "cell_type": "code",
   "execution_count": 1,
   "id": "01e6c175",
   "metadata": {},
   "outputs": [],
   "source": [
    "import do_functions as do\n",
    "import numpy as np\n",
    "import matplotlib.pyplot as plt\n",
    "import pandas as pd \n",
    "from sklearn.metrics import precision_recall_curve\n",
    "from sklearn.metrics import f1_score\n",
    "from sklearn.metrics import auc\n",
    "from sklearn.metrics import matthews_corrcoef\n",
    "from sklearn.metrics import confusion_matrix\n",
    "\n"
   ]
  },
  {
   "cell_type": "code",
   "execution_count": 2,
   "id": "4b7c8e96",
   "metadata": {},
   "outputs": [],
   "source": [
    "df = do.read_and_merge('paz_metadata_actualitzat.pkl',\n",
    "                       'paz_profiles_actualitzat.pkl')\n",
    "df = do.clean_dataframe(df)"
   ]
  },
  {
   "cell_type": "code",
   "execution_count": 3,
   "id": "5bea206f",
   "metadata": {},
   "outputs": [
    {
     "data": {
      "text/html": [
       "<div>\n",
       "<style scoped>\n",
       "    .dataframe tbody tr th:only-of-type {\n",
       "        vertical-align: middle;\n",
       "    }\n",
       "\n",
       "    .dataframe tbody tr th {\n",
       "        vertical-align: top;\n",
       "    }\n",
       "\n",
       "    .dataframe thead th {\n",
       "        text-align: right;\n",
       "    }\n",
       "</style>\n",
       "<table border=\"1\" class=\"dataframe\">\n",
       "  <thead>\n",
       "    <tr style=\"text-align: right;\">\n",
       "      <th></th>\n",
       "      <th>roid</th>\n",
       "      <th>lat</th>\n",
       "      <th>lon</th>\n",
       "      <th>startimeUTC</th>\n",
       "      <th>az_surf</th>\n",
       "      <th>meanP_2</th>\n",
       "      <th>precipBelow12</th>\n",
       "      <th>precipBelow6</th>\n",
       "      <th>irTemp_below</th>\n",
       "      <th>dphi_0010</th>\n",
       "      <th>...</th>\n",
       "      <th>h391</th>\n",
       "      <th>h392</th>\n",
       "      <th>h393</th>\n",
       "      <th>h394</th>\n",
       "      <th>h395</th>\n",
       "      <th>h396</th>\n",
       "      <th>h397</th>\n",
       "      <th>h398</th>\n",
       "      <th>h399</th>\n",
       "      <th>h400</th>\n",
       "    </tr>\n",
       "  </thead>\n",
       "  <tbody>\n",
       "    <tr>\n",
       "      <th>0</th>\n",
       "      <td>PAZ1.2018.130.20.55.G18</td>\n",
       "      <td>37.48</td>\n",
       "      <td>126.10</td>\n",
       "      <td>2018-05-10 20:55:41</td>\n",
       "      <td>-30.59</td>\n",
       "      <td>0.00</td>\n",
       "      <td>0.001</td>\n",
       "      <td>0.000</td>\n",
       "      <td>236</td>\n",
       "      <td>-0.055016</td>\n",
       "      <td>...</td>\n",
       "      <td>0.657319</td>\n",
       "      <td>0.561302</td>\n",
       "      <td>0.453678</td>\n",
       "      <td>0.413606</td>\n",
       "      <td>0.423642</td>\n",
       "      <td>0.358429</td>\n",
       "      <td>0.313858</td>\n",
       "      <td>0.299540</td>\n",
       "      <td>0.329093</td>\n",
       "      <td>0.301198</td>\n",
       "    </tr>\n",
       "    <tr>\n",
       "      <th>1</th>\n",
       "      <td>PAZ1.2018.130.21.01.G19</td>\n",
       "      <td>4.68</td>\n",
       "      <td>153.15</td>\n",
       "      <td>2018-05-10 21:01:40</td>\n",
       "      <td>61.29</td>\n",
       "      <td>0.03</td>\n",
       "      <td>0.044</td>\n",
       "      <td>0.040</td>\n",
       "      <td>211</td>\n",
       "      <td>-0.017083</td>\n",
       "      <td>...</td>\n",
       "      <td>0.388286</td>\n",
       "      <td>0.376438</td>\n",
       "      <td>0.316907</td>\n",
       "      <td>0.303784</td>\n",
       "      <td>0.237429</td>\n",
       "      <td>0.229576</td>\n",
       "      <td>0.131511</td>\n",
       "      <td>0.020837</td>\n",
       "      <td>-0.010168</td>\n",
       "      <td>-0.107573</td>\n",
       "    </tr>\n",
       "    <tr>\n",
       "      <th>2</th>\n",
       "      <td>PAZ1.2018.130.21.10.G24</td>\n",
       "      <td>-16.88</td>\n",
       "      <td>135.77</td>\n",
       "      <td>2018-05-10 21:10:33</td>\n",
       "      <td>19.90</td>\n",
       "      <td>0.00</td>\n",
       "      <td>0.001</td>\n",
       "      <td>0.000</td>\n",
       "      <td>242</td>\n",
       "      <td>-0.065611</td>\n",
       "      <td>...</td>\n",
       "      <td>-0.096078</td>\n",
       "      <td>-0.092646</td>\n",
       "      <td>-0.021363</td>\n",
       "      <td>-0.009680</td>\n",
       "      <td>-0.004799</td>\n",
       "      <td>-0.060674</td>\n",
       "      <td>-0.032557</td>\n",
       "      <td>0.026656</td>\n",
       "      <td>0.083702</td>\n",
       "      <td>0.040231</td>\n",
       "    </tr>\n",
       "    <tr>\n",
       "      <th>3</th>\n",
       "      <td>PAZ1.2018.130.21.16.G10</td>\n",
       "      <td>-36.43</td>\n",
       "      <td>112.66</td>\n",
       "      <td>2018-05-10 21:16:14</td>\n",
       "      <td>-7.23</td>\n",
       "      <td>0.00</td>\n",
       "      <td>0.000</td>\n",
       "      <td>0.000</td>\n",
       "      <td>251</td>\n",
       "      <td>0.020166</td>\n",
       "      <td>...</td>\n",
       "      <td>-0.017869</td>\n",
       "      <td>-0.089222</td>\n",
       "      <td>-0.166217</td>\n",
       "      <td>-0.170754</td>\n",
       "      <td>-0.122106</td>\n",
       "      <td>-0.222287</td>\n",
       "      <td>-0.267388</td>\n",
       "      <td>-0.316209</td>\n",
       "      <td>-0.349521</td>\n",
       "      <td>-0.330845</td>\n",
       "    </tr>\n",
       "    <tr>\n",
       "      <th>4</th>\n",
       "      <td>PAZ1.2018.130.21.39.G29</td>\n",
       "      <td>-53.91</td>\n",
       "      <td>-64.58</td>\n",
       "      <td>2018-05-10 21:39:06</td>\n",
       "      <td>-147.99</td>\n",
       "      <td>0.01</td>\n",
       "      <td>0.004</td>\n",
       "      <td>0.002</td>\n",
       "      <td>228</td>\n",
       "      <td>0.030036</td>\n",
       "      <td>...</td>\n",
       "      <td>0.015577</td>\n",
       "      <td>0.010131</td>\n",
       "      <td>-0.007171</td>\n",
       "      <td>-0.013827</td>\n",
       "      <td>0.019190</td>\n",
       "      <td>0.006500</td>\n",
       "      <td>0.052092</td>\n",
       "      <td>0.063766</td>\n",
       "      <td>0.077721</td>\n",
       "      <td>0.111858</td>\n",
       "    </tr>\n",
       "    <tr>\n",
       "      <th>...</th>\n",
       "      <td>...</td>\n",
       "      <td>...</td>\n",
       "      <td>...</td>\n",
       "      <td>...</td>\n",
       "      <td>...</td>\n",
       "      <td>...</td>\n",
       "      <td>...</td>\n",
       "      <td>...</td>\n",
       "      <td>...</td>\n",
       "      <td>...</td>\n",
       "      <td>...</td>\n",
       "      <td>...</td>\n",
       "      <td>...</td>\n",
       "      <td>...</td>\n",
       "      <td>...</td>\n",
       "      <td>...</td>\n",
       "      <td>...</td>\n",
       "      <td>...</td>\n",
       "      <td>...</td>\n",
       "      <td>...</td>\n",
       "      <td>...</td>\n",
       "    </tr>\n",
       "    <tr>\n",
       "      <th>93052</th>\n",
       "      <td>PAZ1.2022.031.20.14.G13</td>\n",
       "      <td>-27.16</td>\n",
       "      <td>138.07</td>\n",
       "      <td>2022-01-31 20:13:55</td>\n",
       "      <td>1.13</td>\n",
       "      <td>0.54</td>\n",
       "      <td>0.697</td>\n",
       "      <td>0.671</td>\n",
       "      <td>224</td>\n",
       "      <td>1.841160</td>\n",
       "      <td>...</td>\n",
       "      <td>-0.187433</td>\n",
       "      <td>-0.265384</td>\n",
       "      <td>-0.251428</td>\n",
       "      <td>-0.209926</td>\n",
       "      <td>-0.228418</td>\n",
       "      <td>-0.188364</td>\n",
       "      <td>-0.144678</td>\n",
       "      <td>-0.114919</td>\n",
       "      <td>-0.165454</td>\n",
       "      <td>-0.148727</td>\n",
       "    </tr>\n",
       "    <tr>\n",
       "      <th>93053</th>\n",
       "      <td>PAZ1.2022.031.20.56.G31</td>\n",
       "      <td>13.31</td>\n",
       "      <td>-36.69</td>\n",
       "      <td>2022-01-31 20:56:57</td>\n",
       "      <td>151.54</td>\n",
       "      <td>0.00</td>\n",
       "      <td>0.000</td>\n",
       "      <td>0.000</td>\n",
       "      <td>270</td>\n",
       "      <td>-0.085092</td>\n",
       "      <td>...</td>\n",
       "      <td>-0.077407</td>\n",
       "      <td>-0.070182</td>\n",
       "      <td>-0.059642</td>\n",
       "      <td>-0.022276</td>\n",
       "      <td>0.018134</td>\n",
       "      <td>-0.010405</td>\n",
       "      <td>0.012951</td>\n",
       "      <td>0.041839</td>\n",
       "      <td>-0.032065</td>\n",
       "      <td>-0.049576</td>\n",
       "    </tr>\n",
       "    <tr>\n",
       "      <th>93054</th>\n",
       "      <td>PAZ1.2022.031.21.00.G03</td>\n",
       "      <td>24.62</td>\n",
       "      <td>-53.73</td>\n",
       "      <td>2022-01-31 21:00:29</td>\n",
       "      <td>-179.48</td>\n",
       "      <td>0.04</td>\n",
       "      <td>0.012</td>\n",
       "      <td>0.014</td>\n",
       "      <td>232</td>\n",
       "      <td>-0.325563</td>\n",
       "      <td>...</td>\n",
       "      <td>0.124019</td>\n",
       "      <td>0.113161</td>\n",
       "      <td>0.103820</td>\n",
       "      <td>0.077413</td>\n",
       "      <td>0.100516</td>\n",
       "      <td>0.145444</td>\n",
       "      <td>0.136346</td>\n",
       "      <td>0.124060</td>\n",
       "      <td>0.137998</td>\n",
       "      <td>0.094240</td>\n",
       "    </tr>\n",
       "    <tr>\n",
       "      <th>93055</th>\n",
       "      <td>PAZ1.2022.031.21.04.G04</td>\n",
       "      <td>38.95</td>\n",
       "      <td>-67.93</td>\n",
       "      <td>2022-01-31 21:04:21</td>\n",
       "      <td>-169.71</td>\n",
       "      <td>0.07</td>\n",
       "      <td>0.017</td>\n",
       "      <td>0.045</td>\n",
       "      <td>252</td>\n",
       "      <td>-0.873391</td>\n",
       "      <td>...</td>\n",
       "      <td>0.039079</td>\n",
       "      <td>0.040218</td>\n",
       "      <td>-0.025640</td>\n",
       "      <td>0.015339</td>\n",
       "      <td>0.024858</td>\n",
       "      <td>0.055605</td>\n",
       "      <td>0.035608</td>\n",
       "      <td>0.089771</td>\n",
       "      <td>0.103440</td>\n",
       "      <td>0.132603</td>\n",
       "    </tr>\n",
       "    <tr>\n",
       "      <th>93056</th>\n",
       "      <td>PAZ1.2022.031.22.21.G02</td>\n",
       "      <td>-23.27</td>\n",
       "      <td>-78.20</td>\n",
       "      <td>2022-01-31 22:21:36</td>\n",
       "      <td>-144.27</td>\n",
       "      <td>0.00</td>\n",
       "      <td>0.000</td>\n",
       "      <td>0.000</td>\n",
       "      <td>277</td>\n",
       "      <td>-0.123094</td>\n",
       "      <td>...</td>\n",
       "      <td>-0.106615</td>\n",
       "      <td>-0.154835</td>\n",
       "      <td>-0.127584</td>\n",
       "      <td>-0.110332</td>\n",
       "      <td>-0.113023</td>\n",
       "      <td>-0.110772</td>\n",
       "      <td>-0.028137</td>\n",
       "      <td>0.056196</td>\n",
       "      <td>0.070251</td>\n",
       "      <td>0.109150</td>\n",
       "    </tr>\n",
       "  </tbody>\n",
       "</table>\n",
       "<p>90862 rows × 412 columns</p>\n",
       "</div>"
      ],
      "text/plain": [
       "                          roid    lat     lon         startimeUTC  az_surf  \\\n",
       "0      PAZ1.2018.130.20.55.G18  37.48  126.10 2018-05-10 20:55:41   -30.59   \n",
       "1      PAZ1.2018.130.21.01.G19   4.68  153.15 2018-05-10 21:01:40    61.29   \n",
       "2      PAZ1.2018.130.21.10.G24 -16.88  135.77 2018-05-10 21:10:33    19.90   \n",
       "3      PAZ1.2018.130.21.16.G10 -36.43  112.66 2018-05-10 21:16:14    -7.23   \n",
       "4      PAZ1.2018.130.21.39.G29 -53.91  -64.58 2018-05-10 21:39:06  -147.99   \n",
       "...                        ...    ...     ...                 ...      ...   \n",
       "93052  PAZ1.2022.031.20.14.G13 -27.16  138.07 2022-01-31 20:13:55     1.13   \n",
       "93053  PAZ1.2022.031.20.56.G31  13.31  -36.69 2022-01-31 20:56:57   151.54   \n",
       "93054  PAZ1.2022.031.21.00.G03  24.62  -53.73 2022-01-31 21:00:29  -179.48   \n",
       "93055  PAZ1.2022.031.21.04.G04  38.95  -67.93 2022-01-31 21:04:21  -169.71   \n",
       "93056  PAZ1.2022.031.22.21.G02 -23.27  -78.20 2022-01-31 22:21:36  -144.27   \n",
       "\n",
       "       meanP_2  precipBelow12  precipBelow6  irTemp_below  dphi_0010  ...  \\\n",
       "0         0.00          0.001         0.000           236  -0.055016  ...   \n",
       "1         0.03          0.044         0.040           211  -0.017083  ...   \n",
       "2         0.00          0.001         0.000           242  -0.065611  ...   \n",
       "3         0.00          0.000         0.000           251   0.020166  ...   \n",
       "4         0.01          0.004         0.002           228   0.030036  ...   \n",
       "...        ...            ...           ...           ...        ...  ...   \n",
       "93052     0.54          0.697         0.671           224   1.841160  ...   \n",
       "93053     0.00          0.000         0.000           270  -0.085092  ...   \n",
       "93054     0.04          0.012         0.014           232  -0.325563  ...   \n",
       "93055     0.07          0.017         0.045           252  -0.873391  ...   \n",
       "93056     0.00          0.000         0.000           277  -0.123094  ...   \n",
       "\n",
       "           h391      h392      h393      h394      h395      h396      h397  \\\n",
       "0      0.657319  0.561302  0.453678  0.413606  0.423642  0.358429  0.313858   \n",
       "1      0.388286  0.376438  0.316907  0.303784  0.237429  0.229576  0.131511   \n",
       "2     -0.096078 -0.092646 -0.021363 -0.009680 -0.004799 -0.060674 -0.032557   \n",
       "3     -0.017869 -0.089222 -0.166217 -0.170754 -0.122106 -0.222287 -0.267388   \n",
       "4      0.015577  0.010131 -0.007171 -0.013827  0.019190  0.006500  0.052092   \n",
       "...         ...       ...       ...       ...       ...       ...       ...   \n",
       "93052 -0.187433 -0.265384 -0.251428 -0.209926 -0.228418 -0.188364 -0.144678   \n",
       "93053 -0.077407 -0.070182 -0.059642 -0.022276  0.018134 -0.010405  0.012951   \n",
       "93054  0.124019  0.113161  0.103820  0.077413  0.100516  0.145444  0.136346   \n",
       "93055  0.039079  0.040218 -0.025640  0.015339  0.024858  0.055605  0.035608   \n",
       "93056 -0.106615 -0.154835 -0.127584 -0.110332 -0.113023 -0.110772 -0.028137   \n",
       "\n",
       "           h398      h399      h400  \n",
       "0      0.299540  0.329093  0.301198  \n",
       "1      0.020837 -0.010168 -0.107573  \n",
       "2      0.026656  0.083702  0.040231  \n",
       "3     -0.316209 -0.349521 -0.330845  \n",
       "4      0.063766  0.077721  0.111858  \n",
       "...         ...       ...       ...  \n",
       "93052 -0.114919 -0.165454 -0.148727  \n",
       "93053  0.041839 -0.032065 -0.049576  \n",
       "93054  0.124060  0.137998  0.094240  \n",
       "93055  0.089771  0.103440  0.132603  \n",
       "93056  0.056196  0.070251  0.109150  \n",
       "\n",
       "[90862 rows x 412 columns]"
      ]
     },
     "execution_count": 3,
     "metadata": {},
     "output_type": "execute_result"
    }
   ],
   "source": [
    "df"
   ]
  },
  {
   "cell_type": "markdown",
   "id": "39f4d98e",
   "metadata": {},
   "source": [
    "### MCC for 99 percentile optimal range"
   ]
  },
  {
   "cell_type": "code",
   "execution_count": 4,
   "id": "2dda541b",
   "metadata": {},
   "outputs": [
    {
     "data": {
      "text/plain": [
       "39598"
      ]
     },
     "execution_count": 4,
     "metadata": {},
     "output_type": "execute_result"
    }
   ],
   "source": [
    "df_avg = do.average(df,0.1,6.4)\n",
    "len(df_avg)"
   ]
  },
  {
   "cell_type": "code",
   "execution_count": 5,
   "id": "df7bbed5",
   "metadata": {},
   "outputs": [],
   "source": [
    "y_true = df_avg['precipBelow6'].to_numpy()>4.7\n",
    "y_pred = df_avg['avgh001h064'].to_numpy()>10"
   ]
  },
  {
   "cell_type": "code",
   "execution_count": 6,
   "id": "2fe491d0",
   "metadata": {},
   "outputs": [
    {
     "data": {
      "text/plain": [
       "0.4171526803854732"
      ]
     },
     "execution_count": 6,
     "metadata": {},
     "output_type": "execute_result"
    }
   ],
   "source": [
    "matthews_corrcoef(y_true, y_pred)"
   ]
  },
  {
   "cell_type": "code",
   "execution_count": 7,
   "id": "dd4b0bde",
   "metadata": {},
   "outputs": [
    {
     "data": {
      "text/plain": [
       "array([[39353,    87],\n",
       "       [   93,    65]])"
      ]
     },
     "execution_count": 7,
     "metadata": {},
     "output_type": "execute_result"
    }
   ],
   "source": [
    "confusion_matrix(y_true, y_pred)"
   ]
  },
  {
   "cell_type": "markdown",
   "id": "c9462abd",
   "metadata": {},
   "source": [
    "### MCC for 98 percentile optimal range"
   ]
  },
  {
   "cell_type": "code",
   "execution_count": 8,
   "id": "02421047",
   "metadata": {},
   "outputs": [
    {
     "data": {
      "text/plain": [
       "48158"
      ]
     },
     "execution_count": 8,
     "metadata": {},
     "output_type": "execute_result"
    }
   ],
   "source": [
    "df_avg = do.average(df,0.1,7.7)\n",
    "len(df_avg)"
   ]
  },
  {
   "cell_type": "code",
   "execution_count": 9,
   "id": "8bc351ca",
   "metadata": {},
   "outputs": [
    {
     "data": {
      "text/plain": [
       "0.4595199099821819"
      ]
     },
     "execution_count": 9,
     "metadata": {},
     "output_type": "execute_result"
    }
   ],
   "source": [
    "y_true = df_avg['precipBelow6'].to_numpy()>3.32\n",
    "y_pred = df_avg['avgh001h077'].to_numpy()>6.75\n",
    "matthews_corrcoef(y_true, y_pred)"
   ]
  },
  {
   "cell_type": "code",
   "execution_count": 10,
   "id": "833999ce",
   "metadata": {},
   "outputs": [
    {
     "data": {
      "text/plain": [
       "array([[47553,   242],\n",
       "       [  181,   182]])"
      ]
     },
     "execution_count": 10,
     "metadata": {},
     "output_type": "execute_result"
    }
   ],
   "source": [
    "confusion_matrix(y_true, y_pred)"
   ]
  },
  {
   "cell_type": "markdown",
   "id": "3776960a",
   "metadata": {},
   "source": [
    "### MCC for 97 percentile optimal range"
   ]
  },
  {
   "cell_type": "code",
   "execution_count": 11,
   "id": "43844368",
   "metadata": {},
   "outputs": [
    {
     "data": {
      "text/plain": [
       "39598"
      ]
     },
     "execution_count": 11,
     "metadata": {},
     "output_type": "execute_result"
    }
   ],
   "source": [
    "df_avg = do.average(df,0.1,6.0)\n",
    "len(df_avg)"
   ]
  },
  {
   "cell_type": "code",
   "execution_count": 12,
   "id": "2ce5f908",
   "metadata": {},
   "outputs": [
    {
     "data": {
      "text/plain": [
       "0.5152869846870696"
      ]
     },
     "execution_count": 12,
     "metadata": {},
     "output_type": "execute_result"
    }
   ],
   "source": [
    "y_true = df_avg['precipBelow6'].to_numpy()>2.76\n",
    "y_pred = df_avg['avgh001h060'].to_numpy()>5.94\n",
    "matthews_corrcoef(y_true, y_pred)"
   ]
  },
  {
   "cell_type": "code",
   "execution_count": 13,
   "id": "8791b258",
   "metadata": {},
   "outputs": [
    {
     "data": {
      "text/plain": [
       "array([[38792,   336],\n",
       "       [  189,   281]])"
      ]
     },
     "execution_count": 13,
     "metadata": {},
     "output_type": "execute_result"
    }
   ],
   "source": [
    "confusion_matrix(y_true, y_pred)"
   ]
  },
  {
   "cell_type": "markdown",
   "id": "f1915759",
   "metadata": {},
   "source": [
    "### MCC for 96 percentile optimal range"
   ]
  },
  {
   "cell_type": "code",
   "execution_count": 14,
   "id": "c16ab4f8",
   "metadata": {},
   "outputs": [
    {
     "data": {
      "text/plain": [
       "39598"
      ]
     },
     "execution_count": 14,
     "metadata": {},
     "output_type": "execute_result"
    }
   ],
   "source": [
    "df_avg = do.average(df,0.1,6.0)\n",
    "len(df_avg)"
   ]
  },
  {
   "cell_type": "code",
   "execution_count": 15,
   "id": "2af83044",
   "metadata": {},
   "outputs": [
    {
     "data": {
      "text/plain": [
       "0.49732317283188093"
      ]
     },
     "execution_count": 15,
     "metadata": {},
     "output_type": "execute_result"
    }
   ],
   "source": [
    "y_true = df_avg['precipBelow6'].to_numpy()>1.0\n",
    "y_pred = df_avg['avgh001h060'].to_numpy()>1.5\n",
    "matthews_corrcoef(y_true, y_pred)"
   ]
  },
  {
   "cell_type": "code",
   "execution_count": 16,
   "id": "4282b7fd",
   "metadata": {},
   "outputs": [
    {
     "data": {
      "text/plain": [
       "array([[34900,  2955],\n",
       "       [  276,  1467]])"
      ]
     },
     "execution_count": 16,
     "metadata": {},
     "output_type": "execute_result"
    }
   ],
   "source": [
    "confusion_matrix(y_true, y_pred)"
   ]
  },
  {
   "cell_type": "markdown",
   "id": "340940a6",
   "metadata": {},
   "source": [
    "### MCC for 95 percentile optimal range"
   ]
  },
  {
   "cell_type": "code",
   "execution_count": 18,
   "id": "763203ea",
   "metadata": {},
   "outputs": [
    {
     "data": {
      "text/plain": [
       "45044"
      ]
     },
     "execution_count": 18,
     "metadata": {},
     "output_type": "execute_result"
    }
   ],
   "source": [
    "df_avg = do.average(df,0.1,7.3)\n",
    "len(df_avg)"
   ]
  },
  {
   "cell_type": "code",
   "execution_count": 19,
   "id": "4158bd71",
   "metadata": {},
   "outputs": [
    {
     "data": {
      "text/plain": [
       "0.5262394447436713"
      ]
     },
     "execution_count": 19,
     "metadata": {},
     "output_type": "execute_result"
    }
   ],
   "source": [
    "y_true = df_avg['precipBelow6'].to_numpy()>1.95\n",
    "y_pred = df_avg['avgh001h073'].to_numpy()>4.53\n",
    "matthews_corrcoef(y_true, y_pred)"
   ]
  },
  {
   "cell_type": "code",
   "execution_count": 20,
   "id": "1ae02b0d",
   "metadata": {},
   "outputs": [
    {
     "data": {
      "text/plain": [
       "array([[43699,   483],\n",
       "       [  371,   491]])"
      ]
     },
     "execution_count": 20,
     "metadata": {},
     "output_type": "execute_result"
    }
   ],
   "source": [
    "confusion_matrix(y_true, y_pred)"
   ]
  },
  {
   "cell_type": "markdown",
   "id": "4b8910a8",
   "metadata": {},
   "source": [
    "### MCC for 94 percentile optimal range"
   ]
  },
  {
   "cell_type": "code",
   "execution_count": 21,
   "id": "479ebe90",
   "metadata": {},
   "outputs": [
    {
     "data": {
      "text/plain": [
       "42599"
      ]
     },
     "execution_count": 21,
     "metadata": {},
     "output_type": "execute_result"
    }
   ],
   "source": [
    "df_avg = do.average(df,0.1,6.8)\n",
    "len(df_avg)"
   ]
  },
  {
   "cell_type": "code",
   "execution_count": 22,
   "id": "49764ae2",
   "metadata": {},
   "outputs": [
    {
     "data": {
      "text/plain": [
       "0.5394808295129833"
      ]
     },
     "execution_count": 22,
     "metadata": {},
     "output_type": "execute_result"
    }
   ],
   "source": [
    "y_true = df_avg['precipBelow6'].to_numpy()>1.73\n",
    "y_pred = df_avg['avgh001h068'].to_numpy()>4.29\n",
    "matthews_corrcoef(y_true, y_pred)"
   ]
  },
  {
   "cell_type": "code",
   "execution_count": 23,
   "id": "6300da51",
   "metadata": {},
   "outputs": [
    {
     "data": {
      "text/plain": [
       "array([[41070,   532],\n",
       "       [  417,   580]])"
      ]
     },
     "execution_count": 23,
     "metadata": {},
     "output_type": "execute_result"
    }
   ],
   "source": [
    "confusion_matrix(y_true, y_pred)"
   ]
  },
  {
   "cell_type": "markdown",
   "id": "39a444da",
   "metadata": {},
   "source": [
    "### MCC for 93 percentile optimal range"
   ]
  },
  {
   "cell_type": "code",
   "execution_count": 24,
   "id": "f6b274cc",
   "metadata": {},
   "outputs": [
    {
     "data": {
      "text/plain": [
       "45044"
      ]
     },
     "execution_count": 24,
     "metadata": {},
     "output_type": "execute_result"
    }
   ],
   "source": [
    "df_avg = do.average(df,0.1,7.4)\n",
    "len(df_avg)"
   ]
  },
  {
   "cell_type": "code",
   "execution_count": 25,
   "id": "08e9c5a4",
   "metadata": {},
   "outputs": [
    {
     "data": {
      "text/plain": [
       "0.5467261991339092"
      ]
     },
     "execution_count": 25,
     "metadata": {},
     "output_type": "execute_result"
    }
   ],
   "source": [
    "y_true = df_avg['precipBelow6'].to_numpy()>1.50\n",
    "y_pred = df_avg['avgh001h074'].to_numpy()>3.79\n",
    "matthews_corrcoef(y_true, y_pred)"
   ]
  },
  {
   "cell_type": "code",
   "execution_count": 26,
   "id": "60dc8108",
   "metadata": {},
   "outputs": [
    {
     "data": {
      "text/plain": [
       "array([[43216,   615],\n",
       "       [  504,   709]])"
      ]
     },
     "execution_count": 26,
     "metadata": {},
     "output_type": "execute_result"
    }
   ],
   "source": [
    "confusion_matrix(y_true, y_pred)"
   ]
  },
  {
   "cell_type": "markdown",
   "id": "6db8e42d",
   "metadata": {},
   "source": [
    "### MCC for 92 percentile optimal range"
   ]
  },
  {
   "cell_type": "code",
   "execution_count": 27,
   "id": "5cad2ca6",
   "metadata": {},
   "outputs": [
    {
     "data": {
      "text/plain": [
       "45044"
      ]
     },
     "execution_count": 27,
     "metadata": {},
     "output_type": "execute_result"
    }
   ],
   "source": [
    "df_avg = do.average(df,0.2,6.7)\n",
    "len(df_avg)"
   ]
  },
  {
   "cell_type": "code",
   "execution_count": 28,
   "id": "c54afd84",
   "metadata": {},
   "outputs": [
    {
     "data": {
      "text/plain": [
       "0.5618726327612388"
      ]
     },
     "execution_count": 28,
     "metadata": {},
     "output_type": "execute_result"
    }
   ],
   "source": [
    "y_true = df_avg['precipBelow6'].to_numpy()>1.31\n",
    "y_pred = df_avg['avgh002h067'].to_numpy()>3.33\n",
    "matthews_corrcoef(y_true, y_pred)"
   ]
  },
  {
   "cell_type": "code",
   "execution_count": 29,
   "id": "3e180a99",
   "metadata": {},
   "outputs": [
    {
     "data": {
      "text/plain": [
       "array([[42818,   821],\n",
       "       [  509,   896]])"
      ]
     },
     "execution_count": 29,
     "metadata": {},
     "output_type": "execute_result"
    }
   ],
   "source": [
    "confusion_matrix(y_true, y_pred)"
   ]
  },
  {
   "cell_type": "markdown",
   "id": "0981580d",
   "metadata": {},
   "source": [
    "### MCC for 91 percentile optimal range"
   ]
  },
  {
   "cell_type": "code",
   "execution_count": 30,
   "id": "74574294",
   "metadata": {},
   "outputs": [
    {
     "data": {
      "text/plain": [
       "34338"
      ]
     },
     "execution_count": 30,
     "metadata": {},
     "output_type": "execute_result"
    }
   ],
   "source": [
    "df_avg = do.average(df,0.1,5.2)\n",
    "len(df_avg)"
   ]
  },
  {
   "cell_type": "code",
   "execution_count": 32,
   "id": "1599cbec",
   "metadata": {},
   "outputs": [
    {
     "data": {
      "text/plain": [
       "0.5734978833744017"
      ]
     },
     "execution_count": 32,
     "metadata": {},
     "output_type": "execute_result"
    }
   ],
   "source": [
    "y_true = df_avg['precipBelow6'].to_numpy()>1.24\n",
    "y_pred = df_avg['avgh001h052'].to_numpy()>3.52\n",
    "matthews_corrcoef(y_true, y_pred)"
   ]
  },
  {
   "cell_type": "code",
   "execution_count": 33,
   "id": "3769a0a0",
   "metadata": {},
   "outputs": [
    {
     "data": {
      "text/plain": [
       "array([[32387,   713],\n",
       "       [  427,   811]])"
      ]
     },
     "execution_count": 33,
     "metadata": {},
     "output_type": "execute_result"
    }
   ],
   "source": [
    "confusion_matrix(y_true, y_pred)"
   ]
  },
  {
   "cell_type": "markdown",
   "id": "afc6cedb",
   "metadata": {},
   "source": [
    "### MCC for 90 percentile optimal range"
   ]
  },
  {
   "cell_type": "code",
   "execution_count": 34,
   "id": "98615494",
   "metadata": {},
   "outputs": [
    {
     "data": {
      "text/plain": [
       "68174"
      ]
     },
     "execution_count": 34,
     "metadata": {},
     "output_type": "execute_result"
    }
   ],
   "source": [
    "df_avg = do.average(df,0.7,8.6)\n",
    "len(df_avg)"
   ]
  },
  {
   "cell_type": "code",
   "execution_count": 36,
   "id": "04cacfa5",
   "metadata": {},
   "outputs": [
    {
     "data": {
      "text/plain": [
       "0.5755146597417428"
      ]
     },
     "execution_count": 36,
     "metadata": {},
     "output_type": "execute_result"
    }
   ],
   "source": [
    "y_true = df_avg['precipBelow6'].to_numpy()>1.04\n",
    "y_pred = df_avg['avgh007h086'].to_numpy()>2.46\n",
    "matthews_corrcoef(y_true, y_pred)"
   ]
  },
  {
   "cell_type": "code",
   "execution_count": 37,
   "id": "4771c92b",
   "metadata": {},
   "outputs": [
    {
     "data": {
      "text/plain": [
       "array([[64616,  1251],\n",
       "       [  822,  1485]])"
      ]
     },
     "execution_count": 37,
     "metadata": {},
     "output_type": "execute_result"
    }
   ],
   "source": [
    "confusion_matrix(y_true, y_pred)"
   ]
  },
  {
   "cell_type": "code",
   "execution_count": null,
   "id": "58e8ade7",
   "metadata": {},
   "outputs": [],
   "source": []
  }
 ],
 "metadata": {
  "kernelspec": {
   "display_name": "Python 3 (ipykernel)",
   "language": "python",
   "name": "python3"
  },
  "language_info": {
   "codemirror_mode": {
    "name": "ipython",
    "version": 3
   },
   "file_extension": ".py",
   "mimetype": "text/x-python",
   "name": "python",
   "nbconvert_exporter": "python",
   "pygments_lexer": "ipython3",
   "version": "3.9.7"
  }
 },
 "nbformat": 4,
 "nbformat_minor": 5
}
