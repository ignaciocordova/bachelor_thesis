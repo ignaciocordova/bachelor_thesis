{
 "cells": [
  {
   "cell_type": "code",
   "execution_count": 1,
   "id": "01e6c175",
   "metadata": {},
   "outputs": [],
   "source": [
    "import do_functions as do\n",
    "import numpy as np\n",
    "import matplotlib.pyplot as plt\n",
    "import pandas as pd \n",
    "from sklearn.metrics import precision_recall_curve\n",
    "from sklearn.metrics import f1_score\n",
    "from sklearn.metrics import auc\n",
    "from sklearn.metrics import matthews_corrcoef\n",
    "from sklearn.metrics import confusion_matrix\n",
    "from sklearn.metrics import ConfusionMatrixDisplay\n",
    "\n"
   ]
  },
  {
   "cell_type": "code",
   "execution_count": 2,
   "id": "4b7c8e96",
   "metadata": {},
   "outputs": [],
   "source": [
    "df = do.read_and_merge('paz_metadata_actualitzat.pkl',\n",
    "                       'paz_profiles_actualitzat.pkl')\n",
    "df = do.clean_dataframe(df)"
   ]
  },
  {
   "cell_type": "code",
   "execution_count": 3,
   "id": "acf6bb31",
   "metadata": {},
   "outputs": [
    {
     "data": {
      "text/plain": [
       "90862"
      ]
     },
     "execution_count": 3,
     "metadata": {},
     "output_type": "execute_result"
    }
   ],
   "source": [
    "len(df)"
   ]
  },
  {
   "cell_type": "markdown",
   "id": "39f4d98e",
   "metadata": {},
   "source": [
    "### MCC for 99 percentile optimal range"
   ]
  },
  {
   "cell_type": "code",
   "execution_count": 4,
   "id": "2dda541b",
   "metadata": {},
   "outputs": [
    {
     "data": {
      "text/plain": [
       "39598"
      ]
     },
     "execution_count": 4,
     "metadata": {},
     "output_type": "execute_result"
    }
   ],
   "source": [
    "df_avg = do.average(df,0.1,6.4)\n",
    "len(df_avg)"
   ]
  },
  {
   "cell_type": "code",
   "execution_count": 5,
   "id": "df7bbed5",
   "metadata": {},
   "outputs": [],
   "source": [
    "y_true = df_avg['precipBelow6'].to_numpy()>4.7\n",
    "y_pred = df_avg['avgh001h064'].to_numpy()>10"
   ]
  },
  {
   "cell_type": "code",
   "execution_count": 6,
   "id": "2fe491d0",
   "metadata": {},
   "outputs": [
    {
     "data": {
      "text/plain": [
       "0.4171526803854732"
      ]
     },
     "execution_count": 6,
     "metadata": {},
     "output_type": "execute_result"
    }
   ],
   "source": [
    "matthews_corrcoef(y_true, y_pred)"
   ]
  },
  {
   "cell_type": "code",
   "execution_count": 7,
   "id": "dd4b0bde",
   "metadata": {},
   "outputs": [
    {
     "data": {
      "text/plain": [
       "array([[39353,    87],\n",
       "       [   93,    65]])"
      ]
     },
     "execution_count": 7,
     "metadata": {},
     "output_type": "execute_result"
    }
   ],
   "source": [
    "confusion_matrix(y_true, y_pred)"
   ]
  },
  {
   "cell_type": "markdown",
   "id": "c9462abd",
   "metadata": {},
   "source": [
    "### MCC for 98 percentile optimal range"
   ]
  },
  {
   "cell_type": "code",
   "execution_count": 8,
   "id": "02421047",
   "metadata": {},
   "outputs": [
    {
     "data": {
      "text/plain": [
       "48158"
      ]
     },
     "execution_count": 8,
     "metadata": {},
     "output_type": "execute_result"
    }
   ],
   "source": [
    "df_avg = do.average(df,0.1,7.7)\n",
    "len(df_avg)"
   ]
  },
  {
   "cell_type": "code",
   "execution_count": 9,
   "id": "8bc351ca",
   "metadata": {},
   "outputs": [
    {
     "data": {
      "text/plain": [
       "0.4595199099821819"
      ]
     },
     "execution_count": 9,
     "metadata": {},
     "output_type": "execute_result"
    }
   ],
   "source": [
    "y_true = df_avg['precipBelow6'].to_numpy()>3.32\n",
    "y_pred = df_avg['avgh001h077'].to_numpy()>6.75\n",
    "matthews_corrcoef(y_true, y_pred)"
   ]
  },
  {
   "cell_type": "code",
   "execution_count": 10,
   "id": "833999ce",
   "metadata": {},
   "outputs": [
    {
     "data": {
      "text/plain": [
       "array([[47553,   242],\n",
       "       [  181,   182]])"
      ]
     },
     "execution_count": 10,
     "metadata": {},
     "output_type": "execute_result"
    }
   ],
   "source": [
    "confusion_matrix(y_true, y_pred)"
   ]
  },
  {
   "cell_type": "markdown",
   "id": "3776960a",
   "metadata": {},
   "source": [
    "### MCC for 97 percentile optimal range"
   ]
  },
  {
   "cell_type": "code",
   "execution_count": 11,
   "id": "43844368",
   "metadata": {},
   "outputs": [
    {
     "data": {
      "text/plain": [
       "39598"
      ]
     },
     "execution_count": 11,
     "metadata": {},
     "output_type": "execute_result"
    }
   ],
   "source": [
    "df_avg = do.average(df,0.1,6.0)\n",
    "len(df_avg)"
   ]
  },
  {
   "cell_type": "code",
   "execution_count": 12,
   "id": "2ce5f908",
   "metadata": {},
   "outputs": [
    {
     "data": {
      "text/plain": [
       "0.5152869846870696"
      ]
     },
     "execution_count": 12,
     "metadata": {},
     "output_type": "execute_result"
    }
   ],
   "source": [
    "y_true = df_avg['precipBelow6'].to_numpy()>2.76\n",
    "y_pred = df_avg['avgh001h060'].to_numpy()>5.94\n",
    "matthews_corrcoef(y_true, y_pred)"
   ]
  },
  {
   "cell_type": "code",
   "execution_count": 13,
   "id": "8791b258",
   "metadata": {},
   "outputs": [
    {
     "data": {
      "text/plain": [
       "array([[38792,   336],\n",
       "       [  189,   281]])"
      ]
     },
     "execution_count": 13,
     "metadata": {},
     "output_type": "execute_result"
    }
   ],
   "source": [
    "confusion_matrix(y_true, y_pred)"
   ]
  },
  {
   "cell_type": "markdown",
   "id": "f1915759",
   "metadata": {},
   "source": [
    "### MCC for 96 percentile optimal range"
   ]
  },
  {
   "cell_type": "code",
   "execution_count": 4,
   "id": "c16ab4f8",
   "metadata": {},
   "outputs": [
    {
     "data": {
      "text/plain": [
       "87919"
      ]
     },
     "execution_count": 4,
     "metadata": {},
     "output_type": "execute_result"
    }
   ],
   "source": [
    "df_avg = do.average(df,0.6,9.3)\n",
    "len(df_avg)"
   ]
  },
  {
   "cell_type": "code",
   "execution_count": 5,
   "id": "f0275e8e",
   "metadata": {},
   "outputs": [
    {
     "data": {
      "text/plain": [
       "1148"
      ]
     },
     "execution_count": 5,
     "metadata": {},
     "output_type": "execute_result"
    }
   ],
   "source": [
    "len(df_avg[df_avg['precipBelow6']>2.03])"
   ]
  },
  {
   "cell_type": "code",
   "execution_count": 7,
   "id": "2af83044",
   "metadata": {},
   "outputs": [
    {
     "data": {
      "text/plain": [
       "0.5050218669586966"
      ]
     },
     "execution_count": 7,
     "metadata": {},
     "output_type": "execute_result"
    }
   ],
   "source": [
    "y_true = df_avg['precipBelow6'].to_numpy()>2.03\n",
    "y_pred = df_avg['avgh006h093'].to_numpy()>3.84\n",
    "matthews_corrcoef(y_true, y_pred)"
   ]
  },
  {
   "cell_type": "code",
   "execution_count": 8,
   "id": "4282b7fd",
   "metadata": {},
   "outputs": [],
   "source": [
    "matrix = confusion_matrix(y_true, y_pred)"
   ]
  },
  {
   "cell_type": "code",
   "execution_count": 9,
   "id": "1fad6c69",
   "metadata": {},
   "outputs": [
    {
     "data": {
      "text/plain": [
       "<AxesSubplot:>"
      ]
     },
     "execution_count": 9,
     "metadata": {},
     "output_type": "execute_result"
    },
    {
     "data": {
      "image/png": "[encoded data removed]",
      "text/plain": [
       "<Figure size 720x504 with 2 Axes>"
      ]
     },
     "metadata": {},
     "output_type": "display_data"
    }
   ],
   "source": [
    "import seaborn as sn\n",
    "sn.set(font_scale=4)\n",
    "\n",
    "df_cm = pd.DataFrame(matrix, index = [i for i in ['NO','YES']],\n",
    "                  columns = [i for i in ['NO','YES']])\n",
    "plt.figure(figsize = (10,7))\n",
    "sn.heatmap(df_cm, vmin = 0, annot=True,fmt='2g',cmap = 'BuGn')"
   ]
  },
  {
   "cell_type": "markdown",
   "id": "340940a6",
   "metadata": {},
   "source": [
    "### MCC for 95 percentile optimal range"
   ]
  },
  {
   "cell_type": "code",
   "execution_count": 18,
   "id": "763203ea",
   "metadata": {},
   "outputs": [
    {
     "data": {
      "text/plain": [
       "45044"
      ]
     },
     "execution_count": 18,
     "metadata": {},
     "output_type": "execute_result"
    }
   ],
   "source": [
    "df_avg = do.average(df,0.1,7.3)\n",
    "len(df_avg)"
   ]
  },
  {
   "cell_type": "code",
   "execution_count": 19,
   "id": "4158bd71",
   "metadata": {},
   "outputs": [
    {
     "data": {
      "text/plain": [
       "0.5262394447436713"
      ]
     },
     "execution_count": 19,
     "metadata": {},
     "output_type": "execute_result"
    }
   ],
   "source": [
    "y_true = df_avg['precipBelow6'].to_numpy()>1.95\n",
    "y_pred = df_avg['avgh001h073'].to_numpy()>4.53\n",
    "matthews_corrcoef(y_true, y_pred)"
   ]
  },
  {
   "cell_type": "code",
   "execution_count": 20,
   "id": "1ae02b0d",
   "metadata": {},
   "outputs": [
    {
     "data": {
      "text/plain": [
       "array([[43699,   483],\n",
       "       [  371,   491]])"
      ]
     },
     "execution_count": 20,
     "metadata": {},
     "output_type": "execute_result"
    }
   ],
   "source": [
    "confusion_matrix(y_true, y_pred)"
   ]
  },
  {
   "cell_type": "markdown",
   "id": "4b8910a8",
   "metadata": {},
   "source": [
    "### MCC for 94 percentile optimal range"
   ]
  },
  {
   "cell_type": "code",
   "execution_count": 21,
   "id": "479ebe90",
   "metadata": {},
   "outputs": [
    {
     "data": {
      "text/plain": [
       "42599"
      ]
     },
     "execution_count": 21,
     "metadata": {},
     "output_type": "execute_result"
    }
   ],
   "source": [
    "df_avg = do.average(df,0.1,6.8)\n",
    "len(df_avg)"
   ]
  },
  {
   "cell_type": "code",
   "execution_count": 22,
   "id": "49764ae2",
   "metadata": {},
   "outputs": [
    {
     "data": {
      "text/plain": [
       "0.5394808295129833"
      ]
     },
     "execution_count": 22,
     "metadata": {},
     "output_type": "execute_result"
    }
   ],
   "source": [
    "y_true = df_avg['precipBelow6'].to_numpy()>1.73\n",
    "y_pred = df_avg['avgh001h068'].to_numpy()>4.29\n",
    "matthews_corrcoef(y_true, y_pred)"
   ]
  },
  {
   "cell_type": "code",
   "execution_count": 23,
   "id": "6300da51",
   "metadata": {},
   "outputs": [
    {
     "data": {
      "text/plain": [
       "array([[41070,   532],\n",
       "       [  417,   580]])"
      ]
     },
     "execution_count": 23,
     "metadata": {},
     "output_type": "execute_result"
    }
   ],
   "source": [
    "confusion_matrix(y_true, y_pred)"
   ]
  },
  {
   "cell_type": "markdown",
   "id": "39a444da",
   "metadata": {},
   "source": [
    "### MCC for 93 percentile optimal range"
   ]
  },
  {
   "cell_type": "code",
   "execution_count": 24,
   "id": "f6b274cc",
   "metadata": {},
   "outputs": [
    {
     "data": {
      "text/plain": [
       "45044"
      ]
     },
     "execution_count": 24,
     "metadata": {},
     "output_type": "execute_result"
    }
   ],
   "source": [
    "df_avg = do.average(df,0.1,7.4)\n",
    "len(df_avg)"
   ]
  },
  {
   "cell_type": "code",
   "execution_count": 25,
   "id": "08e9c5a4",
   "metadata": {},
   "outputs": [
    {
     "data": {
      "text/plain": [
       "0.5467261991339092"
      ]
     },
     "execution_count": 25,
     "metadata": {},
     "output_type": "execute_result"
    }
   ],
   "source": [
    "y_true = df_avg['precipBelow6'].to_numpy()>1.50\n",
    "y_pred = df_avg['avgh001h074'].to_numpy()>3.79\n",
    "matthews_corrcoef(y_true, y_pred)"
   ]
  },
  {
   "cell_type": "code",
   "execution_count": 26,
   "id": "60dc8108",
   "metadata": {},
   "outputs": [
    {
     "data": {
      "text/plain": [
       "array([[43216,   615],\n",
       "       [  504,   709]])"
      ]
     },
     "execution_count": 26,
     "metadata": {},
     "output_type": "execute_result"
    }
   ],
   "source": [
    "confusion_matrix(y_true, y_pred)"
   ]
  },
  {
   "cell_type": "markdown",
   "id": "6db8e42d",
   "metadata": {},
   "source": [
    "### MCC for 92 percentile optimal range"
   ]
  },
  {
   "cell_type": "code",
   "execution_count": 27,
   "id": "5cad2ca6",
   "metadata": {},
   "outputs": [
    {
     "data": {
      "text/plain": [
       "45044"
      ]
     },
     "execution_count": 27,
     "metadata": {},
     "output_type": "execute_result"
    }
   ],
   "source": [
    "df_avg = do.average(df,0.2,6.7)\n",
    "len(df_avg)"
   ]
  },
  {
   "cell_type": "code",
   "execution_count": 28,
   "id": "c54afd84",
   "metadata": {},
   "outputs": [
    {
     "data": {
      "text/plain": [
       "0.5618726327612388"
      ]
     },
     "execution_count": 28,
     "metadata": {},
     "output_type": "execute_result"
    }
   ],
   "source": [
    "y_true = df_avg['precipBelow6'].to_numpy()>1.31\n",
    "y_pred = df_avg['avgh002h067'].to_numpy()>3.33\n",
    "matthews_corrcoef(y_true, y_pred)"
   ]
  },
  {
   "cell_type": "code",
   "execution_count": 29,
   "id": "3e180a99",
   "metadata": {},
   "outputs": [
    {
     "data": {
      "text/plain": [
       "array([[42818,   821],\n",
       "       [  509,   896]])"
      ]
     },
     "execution_count": 29,
     "metadata": {},
     "output_type": "execute_result"
    }
   ],
   "source": [
    "confusion_matrix(y_true, y_pred)"
   ]
  },
  {
   "cell_type": "markdown",
   "id": "0981580d",
   "metadata": {},
   "source": [
    "### MCC for 91 percentile optimal range"
   ]
  },
  {
   "cell_type": "code",
   "execution_count": 30,
   "id": "74574294",
   "metadata": {},
   "outputs": [
    {
     "data": {
      "text/plain": [
       "34338"
      ]
     },
     "execution_count": 30,
     "metadata": {},
     "output_type": "execute_result"
    }
   ],
   "source": [
    "df_avg = do.average(df,0.1,5.2)\n",
    "len(df_avg)"
   ]
  },
  {
   "cell_type": "code",
   "execution_count": 32,
   "id": "1599cbec",
   "metadata": {},
   "outputs": [
    {
     "data": {
      "text/plain": [
       "0.5734978833744017"
      ]
     },
     "execution_count": 32,
     "metadata": {},
     "output_type": "execute_result"
    }
   ],
   "source": [
    "y_true = df_avg['precipBelow6'].to_numpy()>1.24\n",
    "y_pred = df_avg['avgh001h052'].to_numpy()>3.52\n",
    "matthews_corrcoef(y_true, y_pred)"
   ]
  },
  {
   "cell_type": "code",
   "execution_count": 33,
   "id": "3769a0a0",
   "metadata": {},
   "outputs": [
    {
     "data": {
      "text/plain": [
       "array([[32387,   713],\n",
       "       [  427,   811]])"
      ]
     },
     "execution_count": 33,
     "metadata": {},
     "output_type": "execute_result"
    }
   ],
   "source": [
    "confusion_matrix(y_true, y_pred)"
   ]
  },
  {
   "cell_type": "markdown",
   "id": "afc6cedb",
   "metadata": {},
   "source": [
    "### MCC for 90 percentile optimal range"
   ]
  },
  {
   "cell_type": "code",
   "execution_count": 34,
   "id": "98615494",
   "metadata": {},
   "outputs": [
    {
     "data": {
      "text/plain": [
       "68174"
      ]
     },
     "execution_count": 34,
     "metadata": {},
     "output_type": "execute_result"
    }
   ],
   "source": [
    "df_avg = do.average(df,0.7,8.6)\n",
    "len(df_avg)"
   ]
  },
  {
   "cell_type": "code",
   "execution_count": 36,
   "id": "04cacfa5",
   "metadata": {},
   "outputs": [
    {
     "data": {
      "text/plain": [
       "0.5755146597417428"
      ]
     },
     "execution_count": 36,
     "metadata": {},
     "output_type": "execute_result"
    }
   ],
   "source": [
    "y_true = df_avg['precipBelow6'].to_numpy()>1.04\n",
    "y_pred = df_avg['avgh007h086'].to_numpy()>2.46\n",
    "matthews_corrcoef(y_true, y_pred)"
   ]
  },
  {
   "cell_type": "code",
   "execution_count": 37,
   "id": "4771c92b",
   "metadata": {},
   "outputs": [
    {
     "data": {
      "text/plain": [
       "array([[64616,  1251],\n",
       "       [  822,  1485]])"
      ]
     },
     "execution_count": 37,
     "metadata": {},
     "output_type": "execute_result"
    }
   ],
   "source": [
    "confusion_matrix(y_true, y_pred)"
   ]
  },
  {
   "cell_type": "code",
   "execution_count": null,
   "id": "58e8ade7",
   "metadata": {},
   "outputs": [],
   "source": []
  }
 ],
 "metadata": {
  "kernelspec": {
   "display_name": "Python 3 (ipykernel)",
   "language": "python",
   "name": "python3"
  },
  "language_info": {
   "codemirror_mode": {
    "name": "ipython",
    "version": 3
   },
   "file_extension": ".py",
   "mimetype": "text/x-python",
   "name": "python",
   "nbconvert_exporter": "python",
   "pygments_lexer": "ipython3",
   "version": "3.9.7"
  }
 },
 "nbformat": 4,
 "nbformat_minor": 5
}
