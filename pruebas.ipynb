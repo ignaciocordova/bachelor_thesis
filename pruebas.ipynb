{
 "cells": [
  {
   "cell_type": "code",
   "execution_count": 1,
   "id": "01e6c175",
   "metadata": {},
   "outputs": [],
   "source": [
    "import do_functions as do\n",
    "import numpy as np\n",
    "import matplotlib.pyplot as plt\n",
    "import pandas as pd \n",
    "from sklearn.metrics import precision_recall_curve\n",
    "from sklearn.metrics import f1_score\n",
    "from sklearn.metrics import auc\n"
   ]
  },
  {
   "cell_type": "code",
   "execution_count": 2,
   "id": "4b7c8e96",
   "metadata": {},
   "outputs": [],
   "source": [
    "df = do.read_and_merge('paz_metadata_actualitzat.pkl',\n",
    "                       'paz_profiles_actualitzat.pkl')\n",
    "df = do.clean_dataframe(df)"
   ]
  },
  {
   "cell_type": "code",
   "execution_count": 3,
   "id": "0beb1f48",
   "metadata": {},
   "outputs": [],
   "source": [
    "land_df,sea_df = do.separate_by_region(df)"
   ]
  },
  {
   "cell_type": "code",
   "execution_count": 5,
   "id": "5ce07fe0",
   "metadata": {},
   "outputs": [
    {
     "data": {
      "text/html": [
       "<div>\n",
       "<style scoped>\n",
       "    .dataframe tbody tr th:only-of-type {\n",
       "        vertical-align: middle;\n",
       "    }\n",
       "\n",
       "    .dataframe tbody tr th {\n",
       "        vertical-align: top;\n",
       "    }\n",
       "\n",
       "    .dataframe thead th {\n",
       "        text-align: right;\n",
       "    }\n",
       "</style>\n",
       "<table border=\"1\" class=\"dataframe\">\n",
       "  <thead>\n",
       "    <tr style=\"text-align: right;\">\n",
       "      <th></th>\n",
       "      <th>avgh001h010</th>\n",
       "      <th>precipBelow6</th>\n",
       "    </tr>\n",
       "  </thead>\n",
       "  <tbody>\n",
       "    <tr>\n",
       "      <th>38</th>\n",
       "      <td>1.439807</td>\n",
       "      <td>0.860</td>\n",
       "    </tr>\n",
       "    <tr>\n",
       "      <th>135</th>\n",
       "      <td>8.846153</td>\n",
       "      <td>1.737</td>\n",
       "    </tr>\n",
       "    <tr>\n",
       "      <th>173</th>\n",
       "      <td>0.457432</td>\n",
       "      <td>0.342</td>\n",
       "    </tr>\n",
       "    <tr>\n",
       "      <th>369</th>\n",
       "      <td>5.345251</td>\n",
       "      <td>0.536</td>\n",
       "    </tr>\n",
       "    <tr>\n",
       "      <th>376</th>\n",
       "      <td>0.000000</td>\n",
       "      <td>0.000</td>\n",
       "    </tr>\n",
       "    <tr>\n",
       "      <th>...</th>\n",
       "      <td>...</td>\n",
       "      <td>...</td>\n",
       "    </tr>\n",
       "    <tr>\n",
       "      <th>90434</th>\n",
       "      <td>0.000000</td>\n",
       "      <td>0.000</td>\n",
       "    </tr>\n",
       "    <tr>\n",
       "      <th>90863</th>\n",
       "      <td>5.042952</td>\n",
       "      <td>0.792</td>\n",
       "    </tr>\n",
       "    <tr>\n",
       "      <th>91018</th>\n",
       "      <td>0.000000</td>\n",
       "      <td>0.000</td>\n",
       "    </tr>\n",
       "    <tr>\n",
       "      <th>92156</th>\n",
       "      <td>0.304105</td>\n",
       "      <td>0.002</td>\n",
       "    </tr>\n",
       "    <tr>\n",
       "      <th>93052</th>\n",
       "      <td>4.327869</td>\n",
       "      <td>0.671</td>\n",
       "    </tr>\n",
       "  </tbody>\n",
       "</table>\n",
       "<p>136 rows × 2 columns</p>\n",
       "</div>"
      ],
      "text/plain": [
       "       avgh001h010  precipBelow6\n",
       "38        1.439807         0.860\n",
       "135       8.846153         1.737\n",
       "173       0.457432         0.342\n",
       "369       5.345251         0.536\n",
       "376       0.000000         0.000\n",
       "...            ...           ...\n",
       "90434     0.000000         0.000\n",
       "90863     5.042952         0.792\n",
       "91018     0.000000         0.000\n",
       "92156     0.304105         0.002\n",
       "93052     4.327869         0.671\n",
       "\n",
       "[136 rows x 2 columns]"
      ]
     },
     "execution_count": 5,
     "metadata": {},
     "output_type": "execute_result"
    }
   ],
   "source": [
    "df_avg = do.average(land_df,0.1,1.0)\n",
    "df_avg"
   ]
  },
  {
   "cell_type": "code",
   "execution_count": 16,
   "id": "6f66f719",
   "metadata": {},
   "outputs": [],
   "source": [
    "auxiliary_df = df_avg[df_avg['precipBelow6']>0]\n",
    "truth_th = auxiliary_df['precipBelow6'].quantile(0.98)\n",
    "truth = (df_avg['precipBelow6']>truth_th).to_numpy()\n",
    "probs = (df_avg['avgh001h010']/df_avg['avgh001h010'].max()).to_numpy()"
   ]
  },
  {
   "cell_type": "code",
   "execution_count": 146,
   "id": "369dbd25",
   "metadata": {},
   "outputs": [],
   "source": [
    "#convert float inputs to string to find labels in dataframe\n",
    "hi = 0.1\n",
    "hf = 7.0\n",
    "percentile = 0.98\n",
    "df_avg = do.average(df,hi,hf)\n",
    "\n",
    "str1 = 'h'+str(int(hi*10)).zfill(3)\n",
    "str2 = 'h'+str(int(hf*10)).zfill(3)\n",
    "\n",
    "df_avg = df_avg.drop(df_avg[(df_avg['avg'+str1+''+str2] >1.5) & (df_avg['precipBelow6']<0.3)].index)\n",
    "\n",
    "\n",
    "#build numpy array with normalized averages\n",
    "probs = (df_avg['avg'+str1+''+str2]/df_avg['avg'+str1+''+str2].max()).to_numpy()\n",
    "\n",
    "#Build boolean Truth array with True above percentile \n",
    "#the percentile ignores 0 values  \n",
    "auxiliary_df = df_avg[df_avg['precipBelow6']>0]\n",
    "truth_th = auxiliary_df['precipBelow6'].quantile(percentile)\n",
    "truth = (df_avg['precipBelow6']>truth_th).to_numpy()"
   ]
  },
  {
   "cell_type": "code",
   "execution_count": 125,
   "id": "30211628",
   "metadata": {},
   "outputs": [
    {
     "data": {
      "text/plain": [
       "array([False, False,  True, ..., False, False, False])"
      ]
     },
     "execution_count": 125,
     "metadata": {},
     "output_type": "execute_result"
    }
   ],
   "source": [
    "truth"
   ]
  },
  {
   "cell_type": "code",
   "execution_count": 126,
   "id": "b3a08057",
   "metadata": {},
   "outputs": [
    {
     "data": {
      "text/plain": [
       "array([0.00154218, 0.0212529 , 0.26162345, ..., 0.07344851, 0.        ,\n",
       "       0.        ])"
      ]
     },
     "execution_count": 126,
     "metadata": {},
     "output_type": "execute_result"
    }
   ],
   "source": [
    "probs"
   ]
  },
  {
   "cell_type": "code",
   "execution_count": 127,
   "id": "4a53ea19",
   "metadata": {},
   "outputs": [
    {
     "data": {
      "text/html": [
       "<div>\n",
       "<style scoped>\n",
       "    .dataframe tbody tr th:only-of-type {\n",
       "        vertical-align: middle;\n",
       "    }\n",
       "\n",
       "    .dataframe tbody tr th {\n",
       "        vertical-align: top;\n",
       "    }\n",
       "\n",
       "    .dataframe thead th {\n",
       "        text-align: right;\n",
       "    }\n",
       "</style>\n",
       "<table border=\"1\" class=\"dataframe\">\n",
       "  <thead>\n",
       "    <tr style=\"text-align: right;\">\n",
       "      <th></th>\n",
       "      <th>avgh001h070</th>\n",
       "      <th>precipBelow6</th>\n",
       "    </tr>\n",
       "  </thead>\n",
       "  <tbody>\n",
       "    <tr>\n",
       "      <th>0</th>\n",
       "      <td>0.045595</td>\n",
       "      <td>0.000</td>\n",
       "    </tr>\n",
       "    <tr>\n",
       "      <th>15</th>\n",
       "      <td>0.628345</td>\n",
       "      <td>0.145</td>\n",
       "    </tr>\n",
       "    <tr>\n",
       "      <th>18</th>\n",
       "      <td>7.734930</td>\n",
       "      <td>5.963</td>\n",
       "    </tr>\n",
       "    <tr>\n",
       "      <th>20</th>\n",
       "      <td>0.000000</td>\n",
       "      <td>0.000</td>\n",
       "    </tr>\n",
       "    <tr>\n",
       "      <th>32</th>\n",
       "      <td>0.084997</td>\n",
       "      <td>0.022</td>\n",
       "    </tr>\n",
       "    <tr>\n",
       "      <th>...</th>\n",
       "      <td>...</td>\n",
       "      <td>...</td>\n",
       "    </tr>\n",
       "    <tr>\n",
       "      <th>93048</th>\n",
       "      <td>0.049888</td>\n",
       "      <td>0.000</td>\n",
       "    </tr>\n",
       "    <tr>\n",
       "      <th>93049</th>\n",
       "      <td>0.288335</td>\n",
       "      <td>0.000</td>\n",
       "    </tr>\n",
       "    <tr>\n",
       "      <th>93052</th>\n",
       "      <td>2.171515</td>\n",
       "      <td>0.671</td>\n",
       "    </tr>\n",
       "    <tr>\n",
       "      <th>93054</th>\n",
       "      <td>0.000000</td>\n",
       "      <td>0.000</td>\n",
       "    </tr>\n",
       "    <tr>\n",
       "      <th>93055</th>\n",
       "      <td>0.000000</td>\n",
       "      <td>0.000</td>\n",
       "    </tr>\n",
       "  </tbody>\n",
       "</table>\n",
       "<p>43631 rows × 2 columns</p>\n",
       "</div>"
      ],
      "text/plain": [
       "       avgh001h070  precipBelow6\n",
       "0         0.045595         0.000\n",
       "15        0.628345         0.145\n",
       "18        7.734930         5.963\n",
       "20        0.000000         0.000\n",
       "32        0.084997         0.022\n",
       "...            ...           ...\n",
       "93048     0.049888         0.000\n",
       "93049     0.288335         0.000\n",
       "93052     2.171515         0.671\n",
       "93054     0.000000         0.000\n",
       "93055     0.000000         0.000\n",
       "\n",
       "[43631 rows x 2 columns]"
      ]
     },
     "execution_count": 127,
     "metadata": {},
     "output_type": "execute_result"
    }
   ],
   "source": [
    "df_avg"
   ]
  },
  {
   "cell_type": "code",
   "execution_count": 128,
   "id": "cc645162",
   "metadata": {},
   "outputs": [],
   "source": [
    "precision, recall, thresholds = precision_recall_curve(truth, probs)"
   ]
  },
  {
   "cell_type": "code",
   "execution_count": 129,
   "id": "ddcf0664",
   "metadata": {},
   "outputs": [
    {
     "data": {
      "text/plain": [
       "<matplotlib.collections.PathCollection at 0x7fed26c39250>"
      ]
     },
     "execution_count": 129,
     "metadata": {},
     "output_type": "execute_result"
    },
    {
     "data": {
      "image/png": "[encoded data removed]",
      "text/plain": [
       "<Figure size 432x288 with 1 Axes>"
      ]
     },
     "metadata": {
      "needs_background": "light"
     },
     "output_type": "display_data"
    }
   ],
   "source": [
    "plt.scatter(precision, recall)"
   ]
  },
  {
   "cell_type": "code",
   "execution_count": 147,
   "id": "6a4e16b8",
   "metadata": {},
   "outputs": [
    {
     "data": {
      "text/plain": [
       "3.491"
      ]
     },
     "execution_count": 147,
     "metadata": {},
     "output_type": "execute_result"
    }
   ],
   "source": [
    "truth_th"
   ]
  },
  {
   "cell_type": "code",
   "execution_count": null,
   "id": "b717a14a",
   "metadata": {},
   "outputs": [],
   "source": []
  }
 ],
 "metadata": {
  "kernelspec": {
   "display_name": "Python 3 (ipykernel)",
   "language": "python",
   "name": "python3"
  },
  "language_info": {
   "codemirror_mode": {
    "name": "ipython",
    "version": 3
   },
   "file_extension": ".py",
   "mimetype": "text/x-python",
   "name": "python",
   "nbconvert_exporter": "python",
   "pygments_lexer": "ipython3",
   "version": "3.9.7"
  }
 },
 "nbformat": 4,
 "nbformat_minor": 5
}
