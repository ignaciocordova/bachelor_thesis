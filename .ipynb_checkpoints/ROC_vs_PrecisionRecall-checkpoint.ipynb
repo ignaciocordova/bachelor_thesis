{
 "cells": [
  {
   "cell_type": "markdown",
   "id": "25ab425f",
   "metadata": {},
   "source": [
    "## Precision-Recall curves are better when working with binary classification of imbalanced datasets. \n",
    "\n",
    "This Notebook aims to show how a seemingly good performance in a ROC curve is, in reality, a very poor performance. "
   ]
  },
  {
   "cell_type": "code",
   "execution_count": 1,
   "id": "e8191ba4",
   "metadata": {},
   "outputs": [],
   "source": [
    "import paz "
   ]
  },
  {
   "cell_type": "code",
   "execution_count": 2,
   "id": "947b971e",
   "metadata": {},
   "outputs": [],
   "source": [
    "df = paz.read_and_merge('paz_metadata_actualitzat.pkl',\n",
    "                       'paz_profiles_actualitzat.pkl')\n",
    "df = paz.clean_dataframe(df)"
   ]
  },
  {
   "cell_type": "code",
   "execution_count": 3,
   "id": "946d302f",
   "metadata": {},
   "outputs": [
    {
     "data": {
      "text/plain": [
       "90862"
      ]
     },
     "execution_count": 3,
     "metadata": {},
     "output_type": "execute_result"
    }
   ],
   "source": [
    "#the data contains +90k measurements\n",
    "len(df)"
   ]
  },
  {
   "cell_type": "markdown",
   "id": "92125350",
   "metadata": {},
   "source": [
    "## Only 1k measurements have precipitation above 2 mm/h"
   ]
  },
  {
   "cell_type": "code",
   "execution_count": 4,
   "id": "696ff397",
   "metadata": {},
   "outputs": [
    {
     "data": {
      "text/html": [
       "<div>\n",
       "<style scoped>\n",
       "    .dataframe tbody tr th:only-of-type {\n",
       "        vertical-align: middle;\n",
       "    }\n",
       "\n",
       "    .dataframe tbody tr th {\n",
       "        vertical-align: top;\n",
       "    }\n",
       "\n",
       "    .dataframe thead th {\n",
       "        text-align: right;\n",
       "    }\n",
       "</style>\n",
       "<table border=\"1\" class=\"dataframe\">\n",
       "  <thead>\n",
       "    <tr style=\"text-align: right;\">\n",
       "      <th></th>\n",
       "      <th>roid</th>\n",
       "      <th>lat</th>\n",
       "      <th>lon</th>\n",
       "      <th>startimeUTC</th>\n",
       "      <th>az_surf</th>\n",
       "      <th>meanP_2</th>\n",
       "      <th>precipBelow12</th>\n",
       "      <th>precipBelow6</th>\n",
       "      <th>irTemp_below</th>\n",
       "      <th>dphi_0010</th>\n",
       "      <th>...</th>\n",
       "      <th>h391</th>\n",
       "      <th>h392</th>\n",
       "      <th>h393</th>\n",
       "      <th>h394</th>\n",
       "      <th>h395</th>\n",
       "      <th>h396</th>\n",
       "      <th>h397</th>\n",
       "      <th>h398</th>\n",
       "      <th>h399</th>\n",
       "      <th>h400</th>\n",
       "    </tr>\n",
       "  </thead>\n",
       "  <tbody>\n",
       "    <tr>\n",
       "      <th>18</th>\n",
       "      <td>PAZ1.2018.131.02.25.G11</td>\n",
       "      <td>-51.93</td>\n",
       "      <td>-122.40</td>\n",
       "      <td>2018-05-11 02:25:02</td>\n",
       "      <td>179.89</td>\n",
       "      <td>6.62</td>\n",
       "      <td>4.647</td>\n",
       "      <td>5.963</td>\n",
       "      <td>231</td>\n",
       "      <td>5.35369</td>\n",
       "      <td>...</td>\n",
       "      <td>0.150336</td>\n",
       "      <td>0.143317</td>\n",
       "      <td>0.165718</td>\n",
       "      <td>0.211458</td>\n",
       "      <td>0.191923</td>\n",
       "      <td>0.141821</td>\n",
       "      <td>0.146246</td>\n",
       "      <td>0.117068</td>\n",
       "      <td>0.083446</td>\n",
       "      <td>0.068601</td>\n",
       "    </tr>\n",
       "    <tr>\n",
       "      <th>113</th>\n",
       "      <td>PAZ1.2018.132.14.49.G18</td>\n",
       "      <td>-38.72</td>\n",
       "      <td>38.38</td>\n",
       "      <td>2018-05-12 14:49:01</td>\n",
       "      <td>-151.15</td>\n",
       "      <td>5.78</td>\n",
       "      <td>4.536</td>\n",
       "      <td>5.709</td>\n",
       "      <td>205</td>\n",
       "      <td>8.34740</td>\n",
       "      <td>...</td>\n",
       "      <td>-0.317485</td>\n",
       "      <td>-0.254416</td>\n",
       "      <td>-0.235574</td>\n",
       "      <td>-0.179758</td>\n",
       "      <td>-0.173192</td>\n",
       "      <td>-0.197874</td>\n",
       "      <td>-0.226869</td>\n",
       "      <td>-0.247181</td>\n",
       "      <td>-0.243686</td>\n",
       "      <td>-0.184640</td>\n",
       "    </tr>\n",
       "    <tr>\n",
       "      <th>143</th>\n",
       "      <td>PAZ1.2018.133.02.53.G16</td>\n",
       "      <td>-8.95</td>\n",
       "      <td>56.07</td>\n",
       "      <td>2018-05-13 02:52:45</td>\n",
       "      <td>32.46</td>\n",
       "      <td>2.37</td>\n",
       "      <td>2.073</td>\n",
       "      <td>1.617</td>\n",
       "      <td>193</td>\n",
       "      <td>3.81891</td>\n",
       "      <td>...</td>\n",
       "      <td>0.290811</td>\n",
       "      <td>0.231523</td>\n",
       "      <td>0.185596</td>\n",
       "      <td>0.122856</td>\n",
       "      <td>0.065273</td>\n",
       "      <td>0.043811</td>\n",
       "      <td>0.031352</td>\n",
       "      <td>0.005200</td>\n",
       "      <td>-0.033796</td>\n",
       "      <td>0.039013</td>\n",
       "    </tr>\n",
       "    <tr>\n",
       "      <th>195</th>\n",
       "      <td>PAZ1.2018.134.00.12.G30</td>\n",
       "      <td>6.11</td>\n",
       "      <td>-82.25</td>\n",
       "      <td>2018-05-14 00:12:17</td>\n",
       "      <td>143.42</td>\n",
       "      <td>1.91</td>\n",
       "      <td>3.660</td>\n",
       "      <td>5.122</td>\n",
       "      <td>205</td>\n",
       "      <td>9.61886</td>\n",
       "      <td>...</td>\n",
       "      <td>-0.237485</td>\n",
       "      <td>-0.207569</td>\n",
       "      <td>-0.196581</td>\n",
       "      <td>-0.237392</td>\n",
       "      <td>-0.248813</td>\n",
       "      <td>-0.222138</td>\n",
       "      <td>-0.231229</td>\n",
       "      <td>-0.210618</td>\n",
       "      <td>-0.194567</td>\n",
       "      <td>-0.116706</td>\n",
       "    </tr>\n",
       "    <tr>\n",
       "      <th>254</th>\n",
       "      <td>PAZ1.2018.134.20.12.G20</td>\n",
       "      <td>-54.32</td>\n",
       "      <td>121.55</td>\n",
       "      <td>2018-05-14 20:12:21</td>\n",
       "      <td>5.35</td>\n",
       "      <td>3.06</td>\n",
       "      <td>2.264</td>\n",
       "      <td>2.578</td>\n",
       "      <td>221</td>\n",
       "      <td>3.10072</td>\n",
       "      <td>...</td>\n",
       "      <td>-0.469114</td>\n",
       "      <td>-0.503247</td>\n",
       "      <td>-0.441555</td>\n",
       "      <td>-0.448212</td>\n",
       "      <td>-0.362412</td>\n",
       "      <td>-0.303767</td>\n",
       "      <td>-0.272938</td>\n",
       "      <td>-0.239124</td>\n",
       "      <td>-0.241871</td>\n",
       "      <td>-0.199850</td>\n",
       "    </tr>\n",
       "    <tr>\n",
       "      <th>...</th>\n",
       "      <td>...</td>\n",
       "      <td>...</td>\n",
       "      <td>...</td>\n",
       "      <td>...</td>\n",
       "      <td>...</td>\n",
       "      <td>...</td>\n",
       "      <td>...</td>\n",
       "      <td>...</td>\n",
       "      <td>...</td>\n",
       "      <td>...</td>\n",
       "      <td>...</td>\n",
       "      <td>...</td>\n",
       "      <td>...</td>\n",
       "      <td>...</td>\n",
       "      <td>...</td>\n",
       "      <td>...</td>\n",
       "      <td>...</td>\n",
       "      <td>...</td>\n",
       "      <td>...</td>\n",
       "      <td>...</td>\n",
       "      <td>...</td>\n",
       "    </tr>\n",
       "    <tr>\n",
       "      <th>92893</th>\n",
       "      <td>PAZ1.2022.029.09.22.G07</td>\n",
       "      <td>51.75</td>\n",
       "      <td>-25.88</td>\n",
       "      <td>2022-01-29 09:22:09</td>\n",
       "      <td>46.68</td>\n",
       "      <td>2.57</td>\n",
       "      <td>2.334</td>\n",
       "      <td>3.022</td>\n",
       "      <td>220</td>\n",
       "      <td>5.37029</td>\n",
       "      <td>...</td>\n",
       "      <td>-0.395105</td>\n",
       "      <td>-0.365075</td>\n",
       "      <td>-0.291354</td>\n",
       "      <td>-0.335387</td>\n",
       "      <td>-0.323362</td>\n",
       "      <td>-0.253310</td>\n",
       "      <td>-0.176380</td>\n",
       "      <td>-0.176165</td>\n",
       "      <td>-0.141376</td>\n",
       "      <td>-0.109307</td>\n",
       "    </tr>\n",
       "    <tr>\n",
       "      <th>92898</th>\n",
       "      <td>PAZ1.2022.029.11.00.G14</td>\n",
       "      <td>43.84</td>\n",
       "      <td>-63.33</td>\n",
       "      <td>2022-01-29 11:00:15</td>\n",
       "      <td>21.67</td>\n",
       "      <td>2.32</td>\n",
       "      <td>2.941</td>\n",
       "      <td>3.113</td>\n",
       "      <td>212</td>\n",
       "      <td>6.26074</td>\n",
       "      <td>...</td>\n",
       "      <td>-0.253292</td>\n",
       "      <td>-0.302330</td>\n",
       "      <td>-0.262467</td>\n",
       "      <td>-0.230458</td>\n",
       "      <td>-0.231838</td>\n",
       "      <td>-0.206643</td>\n",
       "      <td>-0.221346</td>\n",
       "      <td>-0.180845</td>\n",
       "      <td>-0.202845</td>\n",
       "      <td>-0.231270</td>\n",
       "    </tr>\n",
       "    <tr>\n",
       "      <th>92932</th>\n",
       "      <td>PAZ1.2022.029.22.08.G14</td>\n",
       "      <td>23.86</td>\n",
       "      <td>133.35</td>\n",
       "      <td>2022-01-29 22:08:12</td>\n",
       "      <td>41.37</td>\n",
       "      <td>2.33</td>\n",
       "      <td>3.908</td>\n",
       "      <td>2.535</td>\n",
       "      <td>239</td>\n",
       "      <td>3.76678</td>\n",
       "      <td>...</td>\n",
       "      <td>0.240411</td>\n",
       "      <td>0.267359</td>\n",
       "      <td>0.266738</td>\n",
       "      <td>0.221606</td>\n",
       "      <td>0.211793</td>\n",
       "      <td>0.142143</td>\n",
       "      <td>0.137824</td>\n",
       "      <td>0.047229</td>\n",
       "      <td>0.042458</td>\n",
       "      <td>0.009437</td>\n",
       "    </tr>\n",
       "    <tr>\n",
       "      <th>92960</th>\n",
       "      <td>PAZ1.2022.030.09.09.G27</td>\n",
       "      <td>37.18</td>\n",
       "      <td>-57.58</td>\n",
       "      <td>2022-01-30 09:09:07</td>\n",
       "      <td>-31.82</td>\n",
       "      <td>4.76</td>\n",
       "      <td>2.817</td>\n",
       "      <td>5.213</td>\n",
       "      <td>210</td>\n",
       "      <td>7.03890</td>\n",
       "      <td>...</td>\n",
       "      <td>-0.385440</td>\n",
       "      <td>-0.361611</td>\n",
       "      <td>-0.451614</td>\n",
       "      <td>-0.484219</td>\n",
       "      <td>-0.515956</td>\n",
       "      <td>-0.520244</td>\n",
       "      <td>-0.544163</td>\n",
       "      <td>-0.647497</td>\n",
       "      <td>-0.562366</td>\n",
       "      <td>-0.489908</td>\n",
       "    </tr>\n",
       "    <tr>\n",
       "      <th>93019</th>\n",
       "      <td>PAZ1.2022.031.08.05.G12</td>\n",
       "      <td>-36.54</td>\n",
       "      <td>161.90</td>\n",
       "      <td>2022-01-31 08:05:02</td>\n",
       "      <td>151.02</td>\n",
       "      <td>9.87</td>\n",
       "      <td>7.531</td>\n",
       "      <td>8.987</td>\n",
       "      <td>225</td>\n",
       "      <td>5.41919</td>\n",
       "      <td>...</td>\n",
       "      <td>0.021060</td>\n",
       "      <td>-0.029911</td>\n",
       "      <td>-0.064294</td>\n",
       "      <td>-0.112203</td>\n",
       "      <td>-0.104803</td>\n",
       "      <td>-0.091951</td>\n",
       "      <td>-0.115579</td>\n",
       "      <td>-0.135423</td>\n",
       "      <td>-0.131473</td>\n",
       "      <td>-0.117109</td>\n",
       "    </tr>\n",
       "  </tbody>\n",
       "</table>\n",
       "<p>1100 rows × 412 columns</p>\n",
       "</div>"
      ],
      "text/plain": [
       "                          roid    lat     lon         startimeUTC  az_surf  \\\n",
       "18     PAZ1.2018.131.02.25.G11 -51.93 -122.40 2018-05-11 02:25:02   179.89   \n",
       "113    PAZ1.2018.132.14.49.G18 -38.72   38.38 2018-05-12 14:49:01  -151.15   \n",
       "143    PAZ1.2018.133.02.53.G16  -8.95   56.07 2018-05-13 02:52:45    32.46   \n",
       "195    PAZ1.2018.134.00.12.G30   6.11  -82.25 2018-05-14 00:12:17   143.42   \n",
       "254    PAZ1.2018.134.20.12.G20 -54.32  121.55 2018-05-14 20:12:21     5.35   \n",
       "...                        ...    ...     ...                 ...      ...   \n",
       "92893  PAZ1.2022.029.09.22.G07  51.75  -25.88 2022-01-29 09:22:09    46.68   \n",
       "92898  PAZ1.2022.029.11.00.G14  43.84  -63.33 2022-01-29 11:00:15    21.67   \n",
       "92932  PAZ1.2022.029.22.08.G14  23.86  133.35 2022-01-29 22:08:12    41.37   \n",
       "92960  PAZ1.2022.030.09.09.G27  37.18  -57.58 2022-01-30 09:09:07   -31.82   \n",
       "93019  PAZ1.2022.031.08.05.G12 -36.54  161.90 2022-01-31 08:05:02   151.02   \n",
       "\n",
       "       meanP_2  precipBelow12  precipBelow6  irTemp_below  dphi_0010  ...  \\\n",
       "18        6.62          4.647         5.963           231    5.35369  ...   \n",
       "113       5.78          4.536         5.709           205    8.34740  ...   \n",
       "143       2.37          2.073         1.617           193    3.81891  ...   \n",
       "195       1.91          3.660         5.122           205    9.61886  ...   \n",
       "254       3.06          2.264         2.578           221    3.10072  ...   \n",
       "...        ...            ...           ...           ...        ...  ...   \n",
       "92893     2.57          2.334         3.022           220    5.37029  ...   \n",
       "92898     2.32          2.941         3.113           212    6.26074  ...   \n",
       "92932     2.33          3.908         2.535           239    3.76678  ...   \n",
       "92960     4.76          2.817         5.213           210    7.03890  ...   \n",
       "93019     9.87          7.531         8.987           225    5.41919  ...   \n",
       "\n",
       "           h391      h392      h393      h394      h395      h396      h397  \\\n",
       "18     0.150336  0.143317  0.165718  0.211458  0.191923  0.141821  0.146246   \n",
       "113   -0.317485 -0.254416 -0.235574 -0.179758 -0.173192 -0.197874 -0.226869   \n",
       "143    0.290811  0.231523  0.185596  0.122856  0.065273  0.043811  0.031352   \n",
       "195   -0.237485 -0.207569 -0.196581 -0.237392 -0.248813 -0.222138 -0.231229   \n",
       "254   -0.469114 -0.503247 -0.441555 -0.448212 -0.362412 -0.303767 -0.272938   \n",
       "...         ...       ...       ...       ...       ...       ...       ...   \n",
       "92893 -0.395105 -0.365075 -0.291354 -0.335387 -0.323362 -0.253310 -0.176380   \n",
       "92898 -0.253292 -0.302330 -0.262467 -0.230458 -0.231838 -0.206643 -0.221346   \n",
       "92932  0.240411  0.267359  0.266738  0.221606  0.211793  0.142143  0.137824   \n",
       "92960 -0.385440 -0.361611 -0.451614 -0.484219 -0.515956 -0.520244 -0.544163   \n",
       "93019  0.021060 -0.029911 -0.064294 -0.112203 -0.104803 -0.091951 -0.115579   \n",
       "\n",
       "           h398      h399      h400  \n",
       "18     0.117068  0.083446  0.068601  \n",
       "113   -0.247181 -0.243686 -0.184640  \n",
       "143    0.005200 -0.033796  0.039013  \n",
       "195   -0.210618 -0.194567 -0.116706  \n",
       "254   -0.239124 -0.241871 -0.199850  \n",
       "...         ...       ...       ...  \n",
       "92893 -0.176165 -0.141376 -0.109307  \n",
       "92898 -0.180845 -0.202845 -0.231270  \n",
       "92932  0.047229  0.042458  0.009437  \n",
       "92960 -0.647497 -0.562366 -0.489908  \n",
       "93019 -0.135423 -0.131473 -0.117109  \n",
       "\n",
       "[1100 rows x 412 columns]"
      ]
     },
     "execution_count": 4,
     "metadata": {},
     "output_type": "execute_result"
    }
   ],
   "source": [
    "df[(df['precipBelow12'])>2.0]"
   ]
  },
  {
   "cell_type": "markdown",
   "id": "4a9dc671",
   "metadata": {},
   "source": [
    "## Precission-Recall curves are more informative than ROC curves when working with  imbalanced datasets \n",
    "\n",
    "Let's plot the ROC curve for our model. \n",
    "\n",
    "To obtain a good ROC curve, the only thing we have to do is set a very large threshold on dphi so that we always predict no rain (False). \n",
    "\n",
    "This way, the false positive rate (x-axis) will be very close to \"0\" (remember we set dphi threshold to always predict False) and the true positive rate (y-axis) will be close to 1.\n",
    "\n",
    "This shows an apparently skillfull model ROC curve but in fact it is just predicting False always. "
   ]
  },
  {
   "cell_type": "code",
   "execution_count": 5,
   "id": "65c88a20",
   "metadata": {},
   "outputs": [
    {
     "data": {
      "image/png": "[encoded data removed]",
      "text/plain": [
       "<Figure size 432x288 with 1 Axes>"
      ]
     },
     "metadata": {
      "needs_background": "light"
     },
     "output_type": "display_data"
    }
   ],
   "source": [
    "paz.plotROC(df,1.0,2,0.99)"
   ]
  },
  {
   "cell_type": "markdown",
   "id": "7d0e978b",
   "metadata": {},
   "source": [
    "### An apparently skillful model (ROC curve) is really very bad performing (PR) when the data is imbalanced."
   ]
  },
  {
   "cell_type": "code",
   "execution_count": 6,
   "id": "11aeb639",
   "metadata": {
    "scrolled": true
   },
   "outputs": [
    {
     "name": "stderr",
     "output_type": "stream",
     "text": [
      "/Users/codefrom0/Documents/final_thesis/paz.py:285: RuntimeWarning: invalid value encountered in true_divide\n",
      "  f1_scores = (2.0*precision*recall)/(precision+recall)\n"
     ]
    },
    {
     "name": "stdout",
     "output_type": "stream",
     "text": [
      "For the avg_dphi h010 - h020 :\n",
      "Optimal threshold: = 9.91\n",
      "Best F1score: 0.28\n",
      "\n"
     ]
    },
    {
     "data": {
      "image/png": "[encoded data removed]",
      "text/plain": [
       "<Figure size 432x288 with 1 Axes>"
      ]
     },
     "metadata": {
      "needs_background": "light"
     },
     "output_type": "display_data"
    }
   ],
   "source": [
    "paz.plotPrecisionRecall(df,1.0,2,0.99)"
   ]
  },
  {
   "cell_type": "markdown",
   "id": "810466de",
   "metadata": {},
   "source": [
    "We can also try for less unbalanced truths. That is, setting the Truth threshold at 4.70mm for example.\n",
    "\n",
    "This will lead to only 130 out of 85.088 True precipitations. \n",
    "\n",
    "The ROC plot shows an apparently really skillfull model. But in the second plot we can see that the model is penalized for predicting the majority class in all cases. \n",
    "\n",
    "The curves show that the model that looked good according to the ROC Curve is in fact barely skillful when evaluated by precision and recall that focus on the positive class."
   ]
  },
  {
   "cell_type": "code",
   "execution_count": 7,
   "id": "1564bda3",
   "metadata": {},
   "outputs": [
    {
     "data": {
      "image/png": "[encoded data removed]",
      "text/plain": [
       "<Figure size 432x288 with 1 Axes>"
      ]
     },
     "metadata": {
      "needs_background": "light"
     },
     "output_type": "display_data"
    }
   ],
   "source": [
    "paz.plotROC(df,1.0,1.5,0.97)"
   ]
  },
  {
   "cell_type": "code",
   "execution_count": 8,
   "id": "f0c965d6",
   "metadata": {},
   "outputs": [
    {
     "name": "stdout",
     "output_type": "stream",
     "text": [
      "For the avg_dphi h010 - h015 :\n",
      "Optimal threshold: = 6.15\n",
      "Best F1score: 0.376\n",
      "\n"
     ]
    },
    {
     "data": {
      "image/png": "[encoded data removed]",
      "text/plain": [
       "<Figure size 432x288 with 1 Axes>"
      ]
     },
     "metadata": {
      "needs_background": "light"
     },
     "output_type": "display_data"
    }
   ],
   "source": [
    "paz.plotPrecisionRecall(df,1.0,1.5,0.97)"
   ]
  },
  {
   "cell_type": "code",
   "execution_count": null,
   "id": "d57f1462",
   "metadata": {},
   "outputs": [],
   "source": []
  }
 ],
 "metadata": {
  "kernelspec": {
   "display_name": "Python 3 (ipykernel)",
   "language": "python",
   "name": "python3"
  },
  "language_info": {
   "codemirror_mode": {
    "name": "ipython",
    "version": 3
   },
   "file_extension": ".py",
   "mimetype": "text/x-python",
   "name": "python",
   "nbconvert_exporter": "python",
   "pygments_lexer": "ipython3",
   "version": "3.9.7"
  }
 },
 "nbformat": 4,
 "nbformat_minor": 5
}
