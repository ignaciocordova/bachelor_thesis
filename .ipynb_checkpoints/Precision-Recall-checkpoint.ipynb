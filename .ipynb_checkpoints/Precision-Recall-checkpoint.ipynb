{
 "cells": [
  {
   "cell_type": "markdown",
   "id": "21b24e74",
   "metadata": {},
   "source": [
    "## Precision-Recall curves \n",
    "\n",
    "(Full documented \"paz\" module can be found in this same repository.)"
   ]
  },
  {
   "cell_type": "code",
   "execution_count": 1,
   "id": "9c6d89f7",
   "metadata": {},
   "outputs": [],
   "source": [
    "import paz\n",
    "import numpy as np\n",
    "import matplotlib.pyplot as plt\n",
    "from matplotlib.font_manager import FontProperties\n",
    "import pandas as pd\n",
    "font = FontProperties()\n",
    "font.set_family('serif')\n",
    "font.set_name('Times New Roman')"
   ]
  },
  {
   "cell_type": "code",
   "execution_count": 2,
   "id": "92250872",
   "metadata": {},
   "outputs": [],
   "source": [
    "df = paz.read_and_merge('paz_metadata_actualitzat.pkl',\n",
    "                       'paz_profiles_actualitzat.pkl')\n",
    "df = paz.clean_dataframe(df)"
   ]
  },
  {
   "cell_type": "code",
   "execution_count": 3,
   "id": "389ea5b2",
   "metadata": {},
   "outputs": [
    {
     "name": "stderr",
     "output_type": "stream",
     "text": [
      "/Users/codefrom0/Documents/final_thesis/paz.py:296: RuntimeWarning: invalid value encountered in true_divide\n",
      "  f1_scores = (2.0*precision*recall)/(precision+recall)\n"
     ]
    },
    {
     "name": "stdout",
     "output_type": "stream",
     "text": [
      "For the avg_dphi h001 - h100 :\n",
      "Optimal threshold: = 6.97\n",
      "Best F1score: 0.377\n",
      "\n"
     ]
    },
    {
     "data": {
      "image/png": "[encoded data removed]",
      "text/plain": [
       "<Figure size 432x288 with 1 Axes>"
      ]
     },
     "metadata": {
      "needs_background": "light"
     },
     "output_type": "display_data"
    }
   ],
   "source": [
    "#PrecisionRecall curve for dphi average between 1 and 10km\n",
    "# and truth threshold of 9.58mm (=0.3 on normalized data)\n",
    "paz.plotPrecisionRecall(df,0.1,10.0,0.99)"
   ]
  },
  {
   "cell_type": "code",
   "execution_count": 4,
   "id": "ec7a6deb",
   "metadata": {},
   "outputs": [
    {
     "name": "stdout",
     "output_type": "stream",
     "text": [
      "For the avg_dphi h001 - h084 :\n",
      "Optimal threshold: = 2.47\n",
      "F1score: 0.589\n",
      "\n"
     ]
    },
    {
     "data": {
      "text/plain": [
       "([<matplotlib.axis.YTick at 0x7fbdcffe1cd0>,\n",
       "  <matplotlib.axis.YTick at 0x7fbdcffe18b0>],\n",
       " [Text(0, 0, '0'), Text(0, 1, '1.0')])"
      ]
     },
     "execution_count": 4,
     "metadata": {},
     "output_type": "execute_result"
    },
    {
     "data": {
      "image/png": "[encoded data removed]",
      "text/plain": [
       "<Figure size 288x288 with 1 Axes>"
      ]
     },
     "metadata": {
      "needs_background": "light"
     },
     "output_type": "display_data"
    }
   ],
   "source": [
    "p1,r1,p11,r11,truth,label1 = paz.getPrecisionRecall(df,0.1,8.4,0.90)\n",
    "no_skill = len(truth[truth==1]) / len(truth)\n",
    "\n",
    "plt.figure(figsize=(4,4), tight_layout=True)\n",
    "\n",
    "plt.scatter(p1,r1,label=label1,s=0.5,c='black')\n",
    "plt.scatter(p11,r11,s=80,c='r')\n",
    "\n",
    "plt.plot([0, 1], [no_skill, no_skill], linestyle='--', c='black',label='no skill')\n",
    "\n",
    "plt.xlabel('Recall', \n",
    "           fontproperties=font,\n",
    "           fontsize=25)\n",
    "plt.ylabel('Precision',\n",
    "           fontproperties=font,\n",
    "           fontsize=25)\n",
    "\n",
    "plt.xticks(ticks=[0,1], \n",
    "           labels=['0','1.0'],\n",
    "           fontproperties=font, \n",
    "           fontsize=20)\n",
    "plt.yticks(ticks=[0,1], \n",
    "           labels=['0','1.0'],\n",
    "           fontproperties=font, \n",
    "           fontsize=20)\n"
   ]
  },
  {
   "cell_type": "code",
   "execution_count": null,
   "id": "874b778b",
   "metadata": {},
   "outputs": [],
   "source": []
  }
 ],
 "metadata": {
  "kernelspec": {
   "display_name": "Python 3 (ipykernel)",
   "language": "python",
   "name": "python3"
  },
  "language_info": {
   "codemirror_mode": {
    "name": "ipython",
    "version": 3
   },
   "file_extension": ".py",
   "mimetype": "text/x-python",
   "name": "python",
   "nbconvert_exporter": "python",
   "pygments_lexer": "ipython3",
   "version": "3.9.7"
  }
 },
 "nbformat": 4,
 "nbformat_minor": 5
}
