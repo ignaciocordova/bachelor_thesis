{
 "cells": [
  {
   "cell_type": "code",
   "execution_count": 46,
   "id": "f39dff57",
   "metadata": {},
   "outputs": [],
   "source": [
    "import pandas as pd\n",
    "import matplotlib as plt\n",
    "import do_functions as do\n",
    "from matplotlib.font_manager import FontProperties\n",
    "\n",
    "font = FontProperties()\n",
    "font.set_family('serif')\n",
    "font.set_name('Times New Roman')"
   ]
  },
  {
   "cell_type": "code",
   "execution_count": 9,
   "id": "4796b9a3",
   "metadata": {},
   "outputs": [],
   "source": [
    "df = do.read_and_merge('paz_metadata_actualitzat.pkl',\n",
    "                       'paz_profiles_actualitzat.pkl')\n",
    "df = do.clean_dataframe(df)"
   ]
  },
  {
   "cell_type": "markdown",
   "id": "5a4e2d5c",
   "metadata": {},
   "source": [
    "### For a 93% percentile for True precipitation we've found an optimal average between 0.1km and 8.5km "
   ]
  },
  {
   "cell_type": "code",
   "execution_count": 10,
   "id": "836c33e1",
   "metadata": {},
   "outputs": [
    {
     "data": {
      "image/png": "[encoded data removed]",
      "text/plain": [
       "<Figure size 432x288 with 1 Axes>"
      ]
     },
     "metadata": {
      "needs_background": "light"
     },
     "output_type": "display_data"
    }
   ],
   "source": [
    "avgdf = do.average(df,1.0,9.6)\n",
    "avgdf.sort_values(inplace=True,by='avgh010h096')\n",
    "ax = avgdf.plot.scatter(x='avgh010h096',y='precipBelow12')"
   ]
  },
  {
   "cell_type": "code",
   "execution_count": 11,
   "id": "a49c7e26",
   "metadata": {},
   "outputs": [
    {
     "data": {
      "text/html": [
       "<div>\n",
       "<style scoped>\n",
       "    .dataframe tbody tr th:only-of-type {\n",
       "        vertical-align: middle;\n",
       "    }\n",
       "\n",
       "    .dataframe tbody tr th {\n",
       "        vertical-align: top;\n",
       "    }\n",
       "\n",
       "    .dataframe thead th {\n",
       "        text-align: right;\n",
       "    }\n",
       "</style>\n",
       "<table border=\"1\" class=\"dataframe\">\n",
       "  <thead>\n",
       "    <tr style=\"text-align: right;\">\n",
       "      <th></th>\n",
       "      <th>avgh010h096</th>\n",
       "      <th>precipBelow12</th>\n",
       "    </tr>\n",
       "  </thead>\n",
       "  <tbody>\n",
       "    <tr>\n",
       "      <th>0</th>\n",
       "      <td>0.000000</td>\n",
       "      <td>0.000</td>\n",
       "    </tr>\n",
       "    <tr>\n",
       "      <th>45349</th>\n",
       "      <td>0.000000</td>\n",
       "      <td>0.000</td>\n",
       "    </tr>\n",
       "    <tr>\n",
       "      <th>45357</th>\n",
       "      <td>0.000000</td>\n",
       "      <td>0.000</td>\n",
       "    </tr>\n",
       "    <tr>\n",
       "      <th>45360</th>\n",
       "      <td>0.000000</td>\n",
       "      <td>0.000</td>\n",
       "    </tr>\n",
       "    <tr>\n",
       "      <th>45366</th>\n",
       "      <td>0.000000</td>\n",
       "      <td>0.000</td>\n",
       "    </tr>\n",
       "    <tr>\n",
       "      <th>...</th>\n",
       "      <td>...</td>\n",
       "      <td>...</td>\n",
       "    </tr>\n",
       "    <tr>\n",
       "      <th>81851</th>\n",
       "      <td>18.632399</td>\n",
       "      <td>11.711</td>\n",
       "    </tr>\n",
       "    <tr>\n",
       "      <th>27504</th>\n",
       "      <td>22.190454</td>\n",
       "      <td>5.183</td>\n",
       "    </tr>\n",
       "    <tr>\n",
       "      <th>55218</th>\n",
       "      <td>22.513729</td>\n",
       "      <td>5.588</td>\n",
       "    </tr>\n",
       "    <tr>\n",
       "      <th>801</th>\n",
       "      <td>27.516751</td>\n",
       "      <td>5.033</td>\n",
       "    </tr>\n",
       "    <tr>\n",
       "      <th>42499</th>\n",
       "      <td>32.404200</td>\n",
       "      <td>5.459</td>\n",
       "    </tr>\n",
       "  </tbody>\n",
       "</table>\n",
       "<p>70689 rows × 2 columns</p>\n",
       "</div>"
      ],
      "text/plain": [
       "       avgh010h096  precipBelow12\n",
       "0         0.000000          0.000\n",
       "45349     0.000000          0.000\n",
       "45357     0.000000          0.000\n",
       "45360     0.000000          0.000\n",
       "45366     0.000000          0.000\n",
       "...            ...            ...\n",
       "81851    18.632399         11.711\n",
       "27504    22.190454          5.183\n",
       "55218    22.513729          5.588\n",
       "801      27.516751          5.033\n",
       "42499    32.404200          5.459\n",
       "\n",
       "[70689 rows x 2 columns]"
      ]
     },
     "execution_count": 11,
     "metadata": {},
     "output_type": "execute_result"
    }
   ],
   "source": [
    "avgdf"
   ]
  },
  {
   "cell_type": "code",
   "execution_count": 13,
   "id": "862b74d2",
   "metadata": {},
   "outputs": [],
   "source": [
    "avgdf['0-1'] = avgdf['precipBelow12'][avgdf['avgh010h096']<1.]\n",
    "avgdf['1-2'] = avgdf['precipBelow12'][(avgdf['avgh010h096']>1.)&(avgdf['avgh010h096']<2.)]\n",
    "avgdf['2-3'] = avgdf['precipBelow12'][(avgdf['avgh010h096']>2.)&(avgdf['avgh010h096']<3.)]\n",
    "avgdf['3-4'] = avgdf['precipBelow12'][(avgdf['avgh010h096']>3.)&(avgdf['avgh010h096']<4.)]\n",
    "avgdf['4-5'] = avgdf['precipBelow12'][(avgdf['avgh010h096']>4.)&(avgdf['avgh010h096']<5.)]\n",
    "avgdf['5-6'] = avgdf['precipBelow12'][(avgdf['avgh010h096']>5.)&(avgdf['avgh010h096']<6.)]\n",
    "avgdf['6-7'] = avgdf['precipBelow12'][(avgdf['avgh010h096']>6.)&(avgdf['avgh010h096']<7.)]\n",
    "avgdf['7-8'] = avgdf['precipBelow12'][(avgdf['avgh010h096']>7.)&(avgdf['avgh010h096']<8.)]\n",
    "avgdf['8-9'] = avgdf['precipBelow12'][(avgdf['avgh010h096']>8.)&(avgdf['avgh010h096']<9.)]\n",
    "avgdf['9-10'] = avgdf['precipBelow12'][(avgdf['avgh010h096']>9.)&(avgdf['avgh010h096']<10.)]\n",
    "avgdf['10-11'] = avgdf['precipBelow12'][(avgdf['avgh010h096']>10.)&(avgdf['avgh010h096']<11.)]\n",
    "avgdf['11-12'] = avgdf['precipBelow12'][(avgdf['avgh010h096']>11.)&(avgdf['avgh010h096']<12.)]\n",
    "avgdf['12-13'] = avgdf['precipBelow12'][(avgdf['avgh010h096']>12.)&(avgdf['avgh010h096']<13.)]\n",
    "avgdf['>13'] = avgdf['precipBelow12'][avgdf['avgh010h096']>13.]\n"
   ]
  },
  {
   "cell_type": "code",
   "execution_count": 14,
   "id": "acfff656",
   "metadata": {},
   "outputs": [
    {
     "data": {
      "text/html": [
       "<div>\n",
       "<style scoped>\n",
       "    .dataframe tbody tr th:only-of-type {\n",
       "        vertical-align: middle;\n",
       "    }\n",
       "\n",
       "    .dataframe tbody tr th {\n",
       "        vertical-align: top;\n",
       "    }\n",
       "\n",
       "    .dataframe thead th {\n",
       "        text-align: right;\n",
       "    }\n",
       "</style>\n",
       "<table border=\"1\" class=\"dataframe\">\n",
       "  <thead>\n",
       "    <tr style=\"text-align: right;\">\n",
       "      <th></th>\n",
       "      <th>avgh010h096</th>\n",
       "      <th>precipBelow12</th>\n",
       "      <th>0-1</th>\n",
       "      <th>1-2</th>\n",
       "      <th>2-3</th>\n",
       "      <th>3-4</th>\n",
       "      <th>4-5</th>\n",
       "      <th>5-6</th>\n",
       "      <th>6-7</th>\n",
       "      <th>7-8</th>\n",
       "      <th>8-9</th>\n",
       "      <th>9-10</th>\n",
       "      <th>10-11</th>\n",
       "      <th>11-12</th>\n",
       "      <th>12-13</th>\n",
       "      <th>&gt;13</th>\n",
       "    </tr>\n",
       "  </thead>\n",
       "  <tbody>\n",
       "    <tr>\n",
       "      <th>0</th>\n",
       "      <td>0.000000</td>\n",
       "      <td>0.000</td>\n",
       "      <td>0.0</td>\n",
       "      <td>NaN</td>\n",
       "      <td>NaN</td>\n",
       "      <td>NaN</td>\n",
       "      <td>NaN</td>\n",
       "      <td>NaN</td>\n",
       "      <td>NaN</td>\n",
       "      <td>NaN</td>\n",
       "      <td>NaN</td>\n",
       "      <td>NaN</td>\n",
       "      <td>NaN</td>\n",
       "      <td>NaN</td>\n",
       "      <td>NaN</td>\n",
       "      <td>NaN</td>\n",
       "    </tr>\n",
       "    <tr>\n",
       "      <th>45349</th>\n",
       "      <td>0.000000</td>\n",
       "      <td>0.000</td>\n",
       "      <td>0.0</td>\n",
       "      <td>NaN</td>\n",
       "      <td>NaN</td>\n",
       "      <td>NaN</td>\n",
       "      <td>NaN</td>\n",
       "      <td>NaN</td>\n",
       "      <td>NaN</td>\n",
       "      <td>NaN</td>\n",
       "      <td>NaN</td>\n",
       "      <td>NaN</td>\n",
       "      <td>NaN</td>\n",
       "      <td>NaN</td>\n",
       "      <td>NaN</td>\n",
       "      <td>NaN</td>\n",
       "    </tr>\n",
       "    <tr>\n",
       "      <th>45357</th>\n",
       "      <td>0.000000</td>\n",
       "      <td>0.000</td>\n",
       "      <td>0.0</td>\n",
       "      <td>NaN</td>\n",
       "      <td>NaN</td>\n",
       "      <td>NaN</td>\n",
       "      <td>NaN</td>\n",
       "      <td>NaN</td>\n",
       "      <td>NaN</td>\n",
       "      <td>NaN</td>\n",
       "      <td>NaN</td>\n",
       "      <td>NaN</td>\n",
       "      <td>NaN</td>\n",
       "      <td>NaN</td>\n",
       "      <td>NaN</td>\n",
       "      <td>NaN</td>\n",
       "    </tr>\n",
       "    <tr>\n",
       "      <th>45360</th>\n",
       "      <td>0.000000</td>\n",
       "      <td>0.000</td>\n",
       "      <td>0.0</td>\n",
       "      <td>NaN</td>\n",
       "      <td>NaN</td>\n",
       "      <td>NaN</td>\n",
       "      <td>NaN</td>\n",
       "      <td>NaN</td>\n",
       "      <td>NaN</td>\n",
       "      <td>NaN</td>\n",
       "      <td>NaN</td>\n",
       "      <td>NaN</td>\n",
       "      <td>NaN</td>\n",
       "      <td>NaN</td>\n",
       "      <td>NaN</td>\n",
       "      <td>NaN</td>\n",
       "    </tr>\n",
       "    <tr>\n",
       "      <th>45366</th>\n",
       "      <td>0.000000</td>\n",
       "      <td>0.000</td>\n",
       "      <td>0.0</td>\n",
       "      <td>NaN</td>\n",
       "      <td>NaN</td>\n",
       "      <td>NaN</td>\n",
       "      <td>NaN</td>\n",
       "      <td>NaN</td>\n",
       "      <td>NaN</td>\n",
       "      <td>NaN</td>\n",
       "      <td>NaN</td>\n",
       "      <td>NaN</td>\n",
       "      <td>NaN</td>\n",
       "      <td>NaN</td>\n",
       "      <td>NaN</td>\n",
       "      <td>NaN</td>\n",
       "    </tr>\n",
       "    <tr>\n",
       "      <th>...</th>\n",
       "      <td>...</td>\n",
       "      <td>...</td>\n",
       "      <td>...</td>\n",
       "      <td>...</td>\n",
       "      <td>...</td>\n",
       "      <td>...</td>\n",
       "      <td>...</td>\n",
       "      <td>...</td>\n",
       "      <td>...</td>\n",
       "      <td>...</td>\n",
       "      <td>...</td>\n",
       "      <td>...</td>\n",
       "      <td>...</td>\n",
       "      <td>...</td>\n",
       "      <td>...</td>\n",
       "      <td>...</td>\n",
       "    </tr>\n",
       "    <tr>\n",
       "      <th>81851</th>\n",
       "      <td>18.632399</td>\n",
       "      <td>11.711</td>\n",
       "      <td>NaN</td>\n",
       "      <td>NaN</td>\n",
       "      <td>NaN</td>\n",
       "      <td>NaN</td>\n",
       "      <td>NaN</td>\n",
       "      <td>NaN</td>\n",
       "      <td>NaN</td>\n",
       "      <td>NaN</td>\n",
       "      <td>NaN</td>\n",
       "      <td>NaN</td>\n",
       "      <td>NaN</td>\n",
       "      <td>NaN</td>\n",
       "      <td>NaN</td>\n",
       "      <td>11.711</td>\n",
       "    </tr>\n",
       "    <tr>\n",
       "      <th>27504</th>\n",
       "      <td>22.190454</td>\n",
       "      <td>5.183</td>\n",
       "      <td>NaN</td>\n",
       "      <td>NaN</td>\n",
       "      <td>NaN</td>\n",
       "      <td>NaN</td>\n",
       "      <td>NaN</td>\n",
       "      <td>NaN</td>\n",
       "      <td>NaN</td>\n",
       "      <td>NaN</td>\n",
       "      <td>NaN</td>\n",
       "      <td>NaN</td>\n",
       "      <td>NaN</td>\n",
       "      <td>NaN</td>\n",
       "      <td>NaN</td>\n",
       "      <td>5.183</td>\n",
       "    </tr>\n",
       "    <tr>\n",
       "      <th>55218</th>\n",
       "      <td>22.513729</td>\n",
       "      <td>5.588</td>\n",
       "      <td>NaN</td>\n",
       "      <td>NaN</td>\n",
       "      <td>NaN</td>\n",
       "      <td>NaN</td>\n",
       "      <td>NaN</td>\n",
       "      <td>NaN</td>\n",
       "      <td>NaN</td>\n",
       "      <td>NaN</td>\n",
       "      <td>NaN</td>\n",
       "      <td>NaN</td>\n",
       "      <td>NaN</td>\n",
       "      <td>NaN</td>\n",
       "      <td>NaN</td>\n",
       "      <td>5.588</td>\n",
       "    </tr>\n",
       "    <tr>\n",
       "      <th>801</th>\n",
       "      <td>27.516751</td>\n",
       "      <td>5.033</td>\n",
       "      <td>NaN</td>\n",
       "      <td>NaN</td>\n",
       "      <td>NaN</td>\n",
       "      <td>NaN</td>\n",
       "      <td>NaN</td>\n",
       "      <td>NaN</td>\n",
       "      <td>NaN</td>\n",
       "      <td>NaN</td>\n",
       "      <td>NaN</td>\n",
       "      <td>NaN</td>\n",
       "      <td>NaN</td>\n",
       "      <td>NaN</td>\n",
       "      <td>NaN</td>\n",
       "      <td>5.033</td>\n",
       "    </tr>\n",
       "    <tr>\n",
       "      <th>42499</th>\n",
       "      <td>32.404200</td>\n",
       "      <td>5.459</td>\n",
       "      <td>NaN</td>\n",
       "      <td>NaN</td>\n",
       "      <td>NaN</td>\n",
       "      <td>NaN</td>\n",
       "      <td>NaN</td>\n",
       "      <td>NaN</td>\n",
       "      <td>NaN</td>\n",
       "      <td>NaN</td>\n",
       "      <td>NaN</td>\n",
       "      <td>NaN</td>\n",
       "      <td>NaN</td>\n",
       "      <td>NaN</td>\n",
       "      <td>NaN</td>\n",
       "      <td>5.459</td>\n",
       "    </tr>\n",
       "  </tbody>\n",
       "</table>\n",
       "<p>70689 rows × 16 columns</p>\n",
       "</div>"
      ],
      "text/plain": [
       "       avgh010h096  precipBelow12  0-1  1-2  2-3  3-4  4-5  5-6  6-7  7-8  \\\n",
       "0         0.000000          0.000  0.0  NaN  NaN  NaN  NaN  NaN  NaN  NaN   \n",
       "45349     0.000000          0.000  0.0  NaN  NaN  NaN  NaN  NaN  NaN  NaN   \n",
       "45357     0.000000          0.000  0.0  NaN  NaN  NaN  NaN  NaN  NaN  NaN   \n",
       "45360     0.000000          0.000  0.0  NaN  NaN  NaN  NaN  NaN  NaN  NaN   \n",
       "45366     0.000000          0.000  0.0  NaN  NaN  NaN  NaN  NaN  NaN  NaN   \n",
       "...            ...            ...  ...  ...  ...  ...  ...  ...  ...  ...   \n",
       "81851    18.632399         11.711  NaN  NaN  NaN  NaN  NaN  NaN  NaN  NaN   \n",
       "27504    22.190454          5.183  NaN  NaN  NaN  NaN  NaN  NaN  NaN  NaN   \n",
       "55218    22.513729          5.588  NaN  NaN  NaN  NaN  NaN  NaN  NaN  NaN   \n",
       "801      27.516751          5.033  NaN  NaN  NaN  NaN  NaN  NaN  NaN  NaN   \n",
       "42499    32.404200          5.459  NaN  NaN  NaN  NaN  NaN  NaN  NaN  NaN   \n",
       "\n",
       "       8-9  9-10  10-11  11-12  12-13     >13  \n",
       "0      NaN   NaN    NaN    NaN    NaN     NaN  \n",
       "45349  NaN   NaN    NaN    NaN    NaN     NaN  \n",
       "45357  NaN   NaN    NaN    NaN    NaN     NaN  \n",
       "45360  NaN   NaN    NaN    NaN    NaN     NaN  \n",
       "45366  NaN   NaN    NaN    NaN    NaN     NaN  \n",
       "...    ...   ...    ...    ...    ...     ...  \n",
       "81851  NaN   NaN    NaN    NaN    NaN  11.711  \n",
       "27504  NaN   NaN    NaN    NaN    NaN   5.183  \n",
       "55218  NaN   NaN    NaN    NaN    NaN   5.588  \n",
       "801    NaN   NaN    NaN    NaN    NaN   5.033  \n",
       "42499  NaN   NaN    NaN    NaN    NaN   5.459  \n",
       "\n",
       "[70689 rows x 16 columns]"
      ]
     },
     "execution_count": 14,
     "metadata": {},
     "output_type": "execute_result"
    }
   ],
   "source": [
    "avgdf"
   ]
  },
  {
   "cell_type": "code",
   "execution_count": 16,
   "id": "959ae580",
   "metadata": {},
   "outputs": [
    {
     "data": {
      "text/plain": [
       "Text(0.5, 0, 'Average signal delay')"
      ]
     },
     "execution_count": 16,
     "metadata": {},
     "output_type": "execute_result"
    },
    {
     "data": {
      "image/png": "[encoded data removed]",
      "text/plain": [
       "<Figure size 720x504 with 1 Axes>"
      ]
     },
     "metadata": {
      "needs_background": "light"
     },
     "output_type": "display_data"
    }
   ],
   "source": [
    "ax = avgdf.boxplot(column=['0-1','1-2','2-3','3-4','4-5',\n",
    "                          '5-6','6-7','7-8','8-9','9-10',\n",
    "                          '10-11','11-12','12-13','>13'])\n",
    "plt.rcParams[\"figure.figsize\"] = (10,7)\n",
    "ax.set_ylabel('True precipitation (mm/h)')\n",
    "ax.set_xlabel('Average signal delay')"
   ]
  },
  {
   "cell_type": "code",
   "execution_count": 33,
   "id": "0fbb0b1c",
   "metadata": {},
   "outputs": [],
   "source": [
    "avgdf = do.average(df,1.0,9.6)\n",
    "avgdf.sort_values(inplace=True,by='avgh010h096')\n",
    "avgdf['0-0.5'] = avgdf['avgh010h096'][avgdf['precipBelow12']<0.5]\n",
    "avgdf['0.5-1.0'] = avgdf['avgh010h096'][(avgdf['precipBelow12']>0.5)&(avgdf['precipBelow12']<1.)]\n",
    "avgdf['1.0-1.5'] = avgdf['avgh010h096'][(avgdf['precipBelow12']>1.)&(avgdf['precipBelow12']<1.5)]\n",
    "avgdf['1.5-2.0'] = avgdf['avgh010h096'][(avgdf['precipBelow12']>1.5)&(avgdf['precipBelow12']<2.)]\n",
    "avgdf['2.0-3.0'] = avgdf['avgh010h096'][(avgdf['precipBelow12']>2.)&(avgdf['precipBelow12']<3.)]\n",
    "avgdf['3.0-4.0'] = avgdf['avgh010h096'][(avgdf['precipBelow12']>3.)&(avgdf['precipBelow12']<4.)]\n",
    "avgdf['4.0-5.0'] = avgdf['avgh010h096'][(avgdf['precipBelow12']>4.)&(avgdf['precipBelow12']<5.)]\n",
    "avgdf['5.0-6.0'] = avgdf['avgh010h096'][(avgdf['precipBelow12']>5.)&(avgdf['precipBelow12']<6.)]\n",
    "avgdf['6.0-8.0'] = avgdf['avgh010h096'][(avgdf['precipBelow12']>6.)&(avgdf['precipBelow12']<8.)]\n",
    "avgdf['8.0-10.0'] = avgdf['avgh010h096'][(avgdf['precipBelow12']>8.)&(avgdf['precipBelow12']<10.)]\n",
    "avgdf['>10'] = avgdf['avgh010h096'][avgdf['precipBelow12']>10.]\n"
   ]
  },
  {
   "cell_type": "code",
   "execution_count": 75,
   "id": "234b76be",
   "metadata": {},
   "outputs": [
    {
     "data": {
      "image/png": "[encoded data removed]",
      "text/plain": [
       "<Figure size 936x648 with 1 Axes>"
      ]
     },
     "metadata": {
      "needs_background": "light"
     },
     "output_type": "display_data"
    }
   ],
   "source": [
    "ax = avgdf.boxplot(column=['0-0.5','0.5-1.0','1.0-1.5','1.5-2.0','2.0-3.0','3.0-4.0',\n",
    "                          '4.0-5.0','5.0-6.0','6.0-8.0','8.0-10.0','>10'],\n",
    "                  widths = [0.2,0.2,0.2,0.2,0.4,0.4,0.4,0.4,0.8,0.8,1])\n",
    "plt.rcParams[\"figure.figsize\"] = (13,9)\n",
    "\n",
    "ax.set_xlabel('True precipitation (mm/h)', \n",
    "           fontproperties=font,\n",
    "           fontsize=25)\n",
    "ax.set_ylabel('Optimal Vertical Average of Δɸ (mm)',\n",
    "           fontproperties=font,\n",
    "           fontsize=25)\n",
    "\n",
    "ax.tick_params(axis='both', which='major', labelsize=15)\n"
   ]
  },
  {
   "cell_type": "code",
   "execution_count": null,
   "id": "2678b9f8",
   "metadata": {},
   "outputs": [],
   "source": []
  },
  {
   "cell_type": "code",
   "execution_count": null,
   "id": "02347eff",
   "metadata": {},
   "outputs": [],
   "source": []
  },
  {
   "cell_type": "markdown",
   "id": "a218004b",
   "metadata": {},
   "source": [
    "### For a 98% percentile for True precipitation we've found an optimal average between 0.1km and 6km "
   ]
  },
  {
   "cell_type": "code",
   "execution_count": 17,
   "id": "1e3a9ceb",
   "metadata": {},
   "outputs": [
    {
     "data": {
      "image/png": "[encoded data removed]",
      "text/plain": [
       "<Figure size 720x504 with 1 Axes>"
      ]
     },
     "metadata": {
      "needs_background": "light"
     },
     "output_type": "display_data"
    }
   ],
   "source": [
    "avgdf = do.average(df,0.1,6.0)\n",
    "avgdf.sort_values(inplace=True,by='avgh001h060')\n",
    "ax = avgdf.plot.scatter(x='avgh001h060',y='precipBelow12')"
   ]
  },
  {
   "cell_type": "code",
   "execution_count": 18,
   "id": "45b8e71f",
   "metadata": {},
   "outputs": [
    {
     "data": {
      "text/html": [
       "<div>\n",
       "<style scoped>\n",
       "    .dataframe tbody tr th:only-of-type {\n",
       "        vertical-align: middle;\n",
       "    }\n",
       "\n",
       "    .dataframe tbody tr th {\n",
       "        vertical-align: top;\n",
       "    }\n",
       "\n",
       "    .dataframe thead th {\n",
       "        text-align: right;\n",
       "    }\n",
       "</style>\n",
       "<table border=\"1\" class=\"dataframe\">\n",
       "  <thead>\n",
       "    <tr style=\"text-align: right;\">\n",
       "      <th></th>\n",
       "      <th>avgh001h060</th>\n",
       "      <th>precipBelow12</th>\n",
       "    </tr>\n",
       "  </thead>\n",
       "  <tbody>\n",
       "    <tr>\n",
       "      <th>85110</th>\n",
       "      <td>0.000000</td>\n",
       "      <td>0.000</td>\n",
       "    </tr>\n",
       "    <tr>\n",
       "      <th>28894</th>\n",
       "      <td>0.000000</td>\n",
       "      <td>0.000</td>\n",
       "    </tr>\n",
       "    <tr>\n",
       "      <th>28896</th>\n",
       "      <td>0.000000</td>\n",
       "      <td>0.000</td>\n",
       "    </tr>\n",
       "    <tr>\n",
       "      <th>59586</th>\n",
       "      <td>0.000000</td>\n",
       "      <td>0.000</td>\n",
       "    </tr>\n",
       "    <tr>\n",
       "      <th>59580</th>\n",
       "      <td>0.000000</td>\n",
       "      <td>0.000</td>\n",
       "    </tr>\n",
       "    <tr>\n",
       "      <th>...</th>\n",
       "      <td>...</td>\n",
       "      <td>...</td>\n",
       "    </tr>\n",
       "    <tr>\n",
       "      <th>71465</th>\n",
       "      <td>17.796921</td>\n",
       "      <td>2.872</td>\n",
       "    </tr>\n",
       "    <tr>\n",
       "      <th>17769</th>\n",
       "      <td>18.225800</td>\n",
       "      <td>6.424</td>\n",
       "    </tr>\n",
       "    <tr>\n",
       "      <th>81668</th>\n",
       "      <td>18.769404</td>\n",
       "      <td>3.352</td>\n",
       "    </tr>\n",
       "    <tr>\n",
       "      <th>27336</th>\n",
       "      <td>19.274334</td>\n",
       "      <td>0.530</td>\n",
       "    </tr>\n",
       "    <tr>\n",
       "      <th>42499</th>\n",
       "      <td>34.963996</td>\n",
       "      <td>5.459</td>\n",
       "    </tr>\n",
       "  </tbody>\n",
       "</table>\n",
       "<p>35860 rows × 2 columns</p>\n",
       "</div>"
      ],
      "text/plain": [
       "       avgh001h060  precipBelow12\n",
       "85110     0.000000          0.000\n",
       "28894     0.000000          0.000\n",
       "28896     0.000000          0.000\n",
       "59586     0.000000          0.000\n",
       "59580     0.000000          0.000\n",
       "...            ...            ...\n",
       "71465    17.796921          2.872\n",
       "17769    18.225800          6.424\n",
       "81668    18.769404          3.352\n",
       "27336    19.274334          0.530\n",
       "42499    34.963996          5.459\n",
       "\n",
       "[35860 rows x 2 columns]"
      ]
     },
     "execution_count": 18,
     "metadata": {},
     "output_type": "execute_result"
    }
   ],
   "source": [
    "avgdf"
   ]
  },
  {
   "cell_type": "code",
   "execution_count": 19,
   "id": "57cb2fd9",
   "metadata": {},
   "outputs": [],
   "source": [
    "avgdf['0-1'] = avgdf['precipBelow12'][avgdf['avgh001h060']<1.]\n",
    "avgdf['1-2'] = avgdf['precipBelow12'][(avgdf['avgh001h060']>1.)&(avgdf['avgh001h060']<2.)]\n",
    "avgdf['2-3'] = avgdf['precipBelow12'][(avgdf['avgh001h060']>2.)&(avgdf['avgh001h060']<3.)]\n",
    "avgdf['3-4'] = avgdf['precipBelow12'][(avgdf['avgh001h060']>3.)&(avgdf['avgh001h060']<4.)]\n",
    "avgdf['4-5'] = avgdf['precipBelow12'][(avgdf['avgh001h060']>4.)&(avgdf['avgh001h060']<5.)]\n",
    "avgdf['5-6'] = avgdf['precipBelow12'][(avgdf['avgh001h060']>5.)&(avgdf['avgh001h060']<6.)]\n",
    "avgdf['6-7'] = avgdf['precipBelow12'][(avgdf['avgh001h060']>6.)&(avgdf['avgh001h060']<7.)]\n",
    "avgdf['7-8'] = avgdf['precipBelow12'][(avgdf['avgh001h060']>7.)&(avgdf['avgh001h060']<8.)]\n",
    "avgdf['8-9'] = avgdf['precipBelow12'][(avgdf['avgh001h060']>8.)&(avgdf['avgh001h060']<9.)]\n",
    "avgdf['9-10'] = avgdf['precipBelow12'][(avgdf['avgh001h060']>9.)&(avgdf['avgh001h060']<10.)]\n",
    "avgdf['10-11'] = avgdf['precipBelow12'][(avgdf['avgh001h060']>10.)&(avgdf['avgh001h060']<11.)]\n",
    "avgdf['11-12'] = avgdf['precipBelow12'][(avgdf['avgh001h060']>11.)&(avgdf['avgh001h060']<12.)]\n",
    "avgdf['12-13'] = avgdf['precipBelow12'][(avgdf['avgh001h060']>12.)&(avgdf['avgh001h060']<13.)]\n",
    "avgdf['>13'] = avgdf['precipBelow12'][avgdf['avgh001h060']>13.]\n"
   ]
  },
  {
   "cell_type": "code",
   "execution_count": 20,
   "id": "deffc718",
   "metadata": {},
   "outputs": [
    {
     "data": {
      "text/plain": [
       "Text(0.5, 0, 'Average signal delay')"
      ]
     },
     "execution_count": 20,
     "metadata": {},
     "output_type": "execute_result"
    },
    {
     "data": {
      "image/png": "[encoded data removed]",
      "text/plain": [
       "<Figure size 720x504 with 1 Axes>"
      ]
     },
     "metadata": {
      "needs_background": "light"
     },
     "output_type": "display_data"
    }
   ],
   "source": [
    "ax = avgdf.boxplot(column=['0-1','1-2','2-3','3-4','4-5',\n",
    "                          '5-6','6-7','7-8','8-9','9-10',\n",
    "                          '10-11','11-12','12-13','>13'])\n",
    "plt.rcParams[\"figure.figsize\"] = (8,7)\n",
    "ax.set_ylabel('True precipitation (mm/h)')\n",
    "ax.set_xlabel('Average signal delay')"
   ]
  },
  {
   "cell_type": "code",
   "execution_count": null,
   "id": "57bb4f5c",
   "metadata": {},
   "outputs": [],
   "source": []
  }
 ],
 "metadata": {
  "kernelspec": {
   "display_name": "Python 3 (ipykernel)",
   "language": "python",
   "name": "python3"
  },
  "language_info": {
   "codemirror_mode": {
    "name": "ipython",
    "version": 3
   },
   "file_extension": ".py",
   "mimetype": "text/x-python",
   "name": "python",
   "nbconvert_exporter": "python",
   "pygments_lexer": "ipython3",
   "version": "3.9.7"
  }
 },
 "nbformat": 4,
 "nbformat_minor": 5
}
